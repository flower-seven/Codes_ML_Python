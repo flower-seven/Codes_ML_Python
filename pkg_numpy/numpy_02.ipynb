{
 "cells": [
  {
   "cell_type": "code",
   "execution_count": 1,
   "metadata": {},
   "outputs": [],
   "source": [
    "# recorded by hao (2018/03/08)\n",
    "# rock3.hao@gmail.com\n",
    "# qinlab.BNU\n",
    "\n",
    "# training of numpy 02"
   ]
  },
  {
   "cell_type": "code",
   "execution_count": 2,
   "metadata": {},
   "outputs": [
    {
     "data": {
      "text/plain": [
       "array([False,  True, False, False])"
      ]
     },
     "execution_count": 2,
     "metadata": {},
     "output_type": "execute_result"
    }
   ],
   "source": [
    "import numpy as np\n",
    "# It will compare the second value to each element in the vector\n",
    "# If the values are equal, the Python interpreter returns True; otherwise, it returns False\n",
    "vect = np.array([5, 10, 15, 20])\n",
    "vect == 10"
   ]
  },
  {
   "cell_type": "code",
   "execution_count": 3,
   "metadata": {},
   "outputs": [
    {
     "data": {
      "text/plain": [
       "array([[False, False, False],\n",
       "       [False,  True, False],\n",
       "       [ True, False, False]])"
      ]
     },
     "execution_count": 3,
     "metadata": {},
     "output_type": "execute_result"
    }
   ],
   "source": [
    "mat_2d = np.array([\n",
    "                   [5, 10, 15], \n",
    "                   [20, 25, 30],\n",
    "                   [25, 40, 45]\n",
    "                 ])\n",
    "mat_2d == 25"
   ]
  },
  {
   "cell_type": "code",
   "execution_count": 4,
   "metadata": {},
   "outputs": [
    {
     "name": "stdout",
     "output_type": "stream",
     "text": [
      "[False  True  True False]\n",
      "[15 15]\n"
     ]
    }
   ],
   "source": [
    "# Compares vector to the value 15, \n",
    "# which generates a new Boolean vector [False, True, False, False].\n",
    "# It assigns this result to equal_to_15\n",
    "vect = np.array([5, 15, 15, 20])\n",
    "equal_to_15 = (vect == 15)\n",
    "print(equal_to_15)\n",
    "print(vect[equal_to_15])"
   ]
  },
  {
   "cell_type": "code",
   "execution_count": 5,
   "metadata": {},
   "outputs": [
    {
     "name": "stdout",
     "output_type": "stream",
     "text": [
      "[False  True False]\n",
      "[[20 25 30]]\n"
     ]
    }
   ],
   "source": [
    "mat_2d = np.array([\n",
    "                [5, 10, 15], \n",
    "                [20, 25, 30],\n",
    "                [25, 40, 45]\n",
    "             ])\n",
    "equal_to_25 = (mat_2d[:,1] == 25)\n",
    "print(equal_to_25)\n",
    "print(mat_2d[equal_to_25,:])"
   ]
  },
  {
   "cell_type": "code",
   "execution_count": null,
   "metadata": {},
   "outputs": [],
   "source": []
  },
  {
   "cell_type": "code",
   "execution_count": 6,
   "metadata": {},
   "outputs": [
    {
     "name": "stdout",
     "output_type": "stream",
     "text": [
      "[False False False False]\n"
     ]
    }
   ],
   "source": [
    "# We can also perform comparisons with multiple conditions\n",
    "vect = np.array([5, 10, 15, 20])\n",
    "equal_to_5and10 = (vect == 10) & (vect == 5)\n",
    "print(equal_to_5and10)"
   ]
  },
  {
   "cell_type": "code",
   "execution_count": 7,
   "metadata": {},
   "outputs": [
    {
     "name": "stdout",
     "output_type": "stream",
     "text": [
      "[ True  True False False]\n"
     ]
    }
   ],
   "source": [
    "vect = np.array([5, 10, 15, 20])\n",
    "equal_to_5or10 = (vect == 10) | (vect == 5)\n",
    "print(equal_to_5or10)"
   ]
  },
  {
   "cell_type": "code",
   "execution_count": 8,
   "metadata": {},
   "outputs": [
    {
     "name": "stdout",
     "output_type": "stream",
     "text": [
      "[50 50 15 20]\n"
     ]
    }
   ],
   "source": [
    "vect = np.array([5, 10, 15, 20])\n",
    "equal_to_5or10 = (vect == 10) | (vect == 5)\n",
    "vect[equal_to_5or10] = 50\n",
    "print(vect)"
   ]
  },
  {
   "cell_type": "code",
   "execution_count": 9,
   "metadata": {},
   "outputs": [
    {
     "name": "stdout",
     "output_type": "stream",
     "text": [
      "[False False  True]\n",
      "[[ 5 10 15]\n",
      " [20 25 30]\n",
      " [35 40  1]]\n"
     ]
    }
   ],
   "source": [
    "mat_2d = np.array([\n",
    "            [5, 10, 15], \n",
    "            [20, 25, 30],\n",
    "            [35, 40, 45]\n",
    "         ])\n",
    "equal_to_30 = mat_2d[1,:] == 30\n",
    "print(equal_to_30)\n",
    "mat_2d[2,equal_to_30] = 1\n",
    "print(mat_2d)"
   ]
  },
  {
   "cell_type": "code",
   "execution_count": 10,
   "metadata": {},
   "outputs": [
    {
     "name": "stdout",
     "output_type": "stream",
     "text": [
      "<U3\n",
      "['1' '2' '3' '4.0']\n",
      "float64\n",
      "[1. 2. 3. 4.]\n"
     ]
    }
   ],
   "source": [
    "# We can convert the data type of an array with the ndarray.astype() method.\n",
    "vect = np.array([\"1\", \"2\", \"3\",\"4.0\"])\n",
    "print(vect.dtype)\n",
    "print(vect)\n",
    "      \n",
    "vect = vect.astype(float)\n",
    "print(vect.dtype)\n",
    "print(vect)"
   ]
  },
  {
   "cell_type": "code",
   "execution_count": 11,
   "metadata": {},
   "outputs": [
    {
     "name": "stdout",
     "output_type": "stream",
     "text": [
      "[5 10 15 18446744073709551616]\n",
      "18446744073709551646\n"
     ]
    }
   ],
   "source": [
    "vect = np.array([5, 10, 15, 2**64])\n",
    "print(vect)\n",
    "print(vect.sum())"
   ]
  },
  {
   "cell_type": "code",
   "execution_count": 12,
   "metadata": {},
   "outputs": [
    {
     "name": "stdout",
     "output_type": "stream",
     "text": [
      "[ 30  75 120]\n"
     ]
    }
   ],
   "source": [
    "# The axis dictates which dimension we perform the operation on 1 means that\n",
    "#we want to perform the operation on each row, and 0 means on each column\n",
    "mat_2d = np.array([\n",
    "                [5, 10, 15], \n",
    "                [20, 25, 30],\n",
    "                [35, 40, 45]\n",
    "             ])\n",
    "print(mat_2d.sum(axis=1))"
   ]
  },
  {
   "cell_type": "code",
   "execution_count": 13,
   "metadata": {},
   "outputs": [
    {
     "name": "stdout",
     "output_type": "stream",
     "text": [
      "[60 75 90]\n"
     ]
    }
   ],
   "source": [
    "mat_2d = np.array([\n",
    "                [5, 10, 15], \n",
    "                [20, 25, 30],\n",
    "                [35, 40, 45]\n",
    "             ])\n",
    "print(mat_2d.sum(axis=0))"
   ]
  },
  {
   "cell_type": "code",
   "execution_count": 14,
   "metadata": {},
   "outputs": [
    {
     "name": "stdout",
     "output_type": "stream",
     "text": [
      "1137.7800000000002\n",
      "1.1412036108324977\n"
     ]
    }
   ],
   "source": [
    "# replace nan value with 0\n",
    "\n",
    "# print world_alcohol\n",
    "wd_ach = np.genfromtxt(\"./data/data_world_alcohol.txt\", delimiter=\",\", dtype=float, skip_header=1)\n",
    "# print(wd_ach)\n",
    "\n",
    "# print is_value_empty\n",
    "is_value_empty = np.isnan(wd_ach[:,4])\n",
    "# print(is_value_empty)\n",
    "\n",
    "wd_ach[is_value_empty, 4] = '0'\n",
    "# print(wd_ach)\n",
    "\n",
    "ach_consumption = wd_ach[:,4]\n",
    "# print(ach_consumption)\n",
    "\n",
    "total_ach = ach_consumption.sum()\n",
    "print(total_ach)\n",
    "\n",
    "average_ach = ach_consumption.mean()\n",
    "print(average_ach)"
   ]
  },
  {
   "cell_type": "code",
   "execution_count": null,
   "metadata": {},
   "outputs": [],
   "source": []
  }
 ],
 "metadata": {
  "kernelspec": {
   "display_name": "Python 3",
   "language": "python",
   "name": "python3"
  },
  "language_info": {
   "codemirror_mode": {
    "name": "ipython",
    "version": 3
   },
   "file_extension": ".py",
   "mimetype": "text/x-python",
   "name": "python",
   "nbconvert_exporter": "python",
   "pygments_lexer": "ipython3",
   "version": "3.6.4"
  }
 },
 "nbformat": 4,
 "nbformat_minor": 1
}
