{
 "cells": [
  {
   "cell_type": "code",
   "execution_count": 9,
   "metadata": {},
   "outputs": [],
   "source": [
    "# recorded by hao (2018/03/08)\n",
    "# rock3.hao@gmail.com\n",
    "# qinlab.BNU\n",
    "\n",
    "# training of numpy 01"
   ]
  },
  {
   "cell_type": "code",
   "execution_count": 10,
   "metadata": {},
   "outputs": [
    {
     "name": "stdout",
     "output_type": "stream",
     "text": [
      "<class 'numpy.ndarray'>\n",
      "[['Year' 'WHO region' 'Country' 'Beverage Types' 'Display Value']\n",
      " ['1986' 'Western Pacific' 'Viet Nam' 'Wine' '0']\n",
      " ['1986' 'Americas' 'Uruguay' 'Other' '0.5']\n",
      " ...\n",
      " ['1987' 'Africa' 'Malawi' 'Other' '0.75']\n",
      " ['1989' 'Americas' 'Bahamas' 'Wine' '1.5']\n",
      " ['1985' 'Africa' 'Malawi' 'Spirits' '0.31']]\n"
     ]
    }
   ],
   "source": [
    "import numpy as np\n",
    "\n",
    "# print(help(np.genfromtxt))\n",
    "wd_ach = np.genfromtxt(\"./data/data_world_alcohol.txt\", delimiter=\",\", dtype=str)\n",
    "print(type(wd_ach))\n",
    "print(wd_ach)"
   ]
  },
  {
   "cell_type": "code",
   "execution_count": 11,
   "metadata": {},
   "outputs": [],
   "source": [
    "# import pandas as pd\n",
    "\n",
    "# wd_ach = pd.read_csv(\"/Users/haolei/Toolbox/scr_hao/Python/Numpy/world_alcohol_new.csv\")\n",
    "# wd_ach.head(6)"
   ]
  },
  {
   "cell_type": "code",
   "execution_count": 12,
   "metadata": {},
   "outputs": [
    {
     "name": "stdout",
     "output_type": "stream",
     "text": [
      "[ 5 10 15 20 25 30]\n",
      "[[ 5 10 15]\n",
      " [20 25 30]]\n",
      "[[[1 2]\n",
      "  [4 5]]\n",
      "\n",
      " [[1 2]\n",
      "  [4 5]]\n",
      "\n",
      " [[1 2]\n",
      "  [4 5]]]\n"
     ]
    }
   ],
   "source": [
    "# The numpy.array() function can take a list or list of lists as input.\n",
    "# When we input a list, we get a one-dimensional array as a result:\n",
    "vect = np.array([5, 10, 15, 20,25,30])\n",
    "# When we input a list of lists, we get a matrix as a result:\n",
    "mat_2d = np.array([[5, 10, 15], [20, 25, 30]])\n",
    "mat_3d = np.array([[[1,2],[4,5]],[[1,2],[4,5]],[[1,2],[4,5]]])\n",
    "\n",
    "print(vect)\n",
    "print(mat_2d)\n",
    "print(mat_3d)"
   ]
  },
  {
   "cell_type": "code",
   "execution_count": 13,
   "metadata": {},
   "outputs": [
    {
     "name": "stdout",
     "output_type": "stream",
     "text": [
      "(6,)\n",
      "(2, 3)\n",
      "(3, 2, 2)\n"
     ]
    }
   ],
   "source": [
    "# We can use the ndarray.shape property to figure out how many elements are in the array\n",
    "vect = np.array([5, 10, 15, 20,25,30])\n",
    "print(vect.shape)\n",
    "# For matrices, the shape property contains a tuple with 2 elements.\n",
    "mat_2d = np.array([[5, 10, 15], [20, 25, 30]])\n",
    "print(mat_2d.shape)\n",
    "\n",
    "mat_3d = np.array([[[1,2],[4,5]],[[1,2],[4,5]],[[1,2],[4,5]]])\n",
    "print(mat_3d.shape)"
   ]
  },
  {
   "cell_type": "code",
   "execution_count": 14,
   "metadata": {},
   "outputs": [
    {
     "name": "stdout",
     "output_type": "stream",
     "text": [
      "[1 2 3 4]\n",
      "[1. 2. 3. 4.]\n",
      "['1' '2' '3' '4']\n",
      "--------------\n",
      "int64\n",
      "float64\n",
      "<U21\n"
     ]
    }
   ],
   "source": [
    "# Each value in a NumPy array has to have the same data type\n",
    "# NumPy will automatically figure out an appropriate data type when reading in\n",
    "#data or converting lists to arrays. \n",
    "# You can check the data type of a NumPy array using the dtype property.\n",
    "numbers_01 = np.array([1, 2, 3, 4])\n",
    "numbers_02 = np.array([1, 2, 3, 4.0])\n",
    "numbers_03 = np.array([1, 2, 3, '4'])\n",
    "\n",
    "print(numbers_01)\n",
    "print(numbers_02)\n",
    "print(numbers_03)\n",
    "\n",
    "print('--------------')\n",
    "\n",
    "print(numbers_01.dtype)\n",
    "print(numbers_02.dtype)\n",
    "print(numbers_03.dtype)"
   ]
  },
  {
   "cell_type": "code",
   "execution_count": 15,
   "metadata": {},
   "outputs": [],
   "source": [
    "# When NumPy can't convert a value to a numeric data type like float or integer,\n",
    "# it uses a special nan value that stands for Not a Number\n",
    "# nan is the missing data\n",
    "# 1.98600000e+03 is actually 1.986 * 10 ^ 3"
   ]
  },
  {
   "cell_type": "code",
   "execution_count": 16,
   "metadata": {},
   "outputs": [
    {
     "name": "stdout",
     "output_type": "stream",
     "text": [
      "[['1986' 'Western Pacific' 'Viet Nam' 'Wine' '0']\n",
      " ['1986' 'Americas' 'Uruguay' 'Other' '0.5']\n",
      " ['1985' 'Africa' \"Cte d'Ivoire\" 'Wine' '1.62']\n",
      " ...\n",
      " ['1987' 'Africa' 'Malawi' 'Other' '0.75']\n",
      " ['1989' 'Americas' 'Bahamas' 'Wine' '1.5']\n",
      " ['1985' 'Africa' 'Malawi' 'Spirits' '0.31']]\n"
     ]
    }
   ],
   "source": [
    "wd_ach = np.genfromtxt(\"./data/data_world_alcohol.txt\", delimiter=\",\", dtype=str, skip_header=1)\n",
    "print(wd_ach)"
   ]
  },
  {
   "cell_type": "code",
   "execution_count": 17,
   "metadata": {},
   "outputs": [
    {
     "name": "stdout",
     "output_type": "stream",
     "text": [
      "Western Pacific\n",
      "1.62\n"
     ]
    }
   ],
   "source": [
    "# array start start with [0，0]\n",
    "array_loc_01 = wd_ach[0,1]\n",
    "array_loc_02 = wd_ach[2,4]\n",
    "print(array_loc_01)\n",
    "print(array_loc_02)"
   ]
  },
  {
   "cell_type": "code",
   "execution_count": 18,
   "metadata": {},
   "outputs": [
    {
     "name": "stdout",
     "output_type": "stream",
     "text": [
      "[ 5 10 15]\n"
     ]
    }
   ],
   "source": [
    "vect = np.array([5,10,15,20,25,30])\n",
    "vect_part = vect[0:3]\n",
    "print(vect_part)  "
   ]
  },
  {
   "cell_type": "code",
   "execution_count": 19,
   "metadata": {},
   "outputs": [
    {
     "name": "stdout",
     "output_type": "stream",
     "text": [
      "[ 5 20]\n"
     ]
    }
   ],
   "source": [
    "mat_2d = np.array([[5, 10, 15], [20, 25, 30]])\n",
    "print(mat_2d[:,0])"
   ]
  },
  {
   "cell_type": "code",
   "execution_count": 20,
   "metadata": {},
   "outputs": [
    {
     "name": "stdout",
     "output_type": "stream",
     "text": [
      "[[10 15]\n",
      " [25 30]]\n"
     ]
    }
   ],
   "source": [
    "print(mat_2d[:,1:3])"
   ]
  },
  {
   "cell_type": "code",
   "execution_count": 21,
   "metadata": {},
   "outputs": [
    {
     "name": "stdout",
     "output_type": "stream",
     "text": [
      "[[ 5 10]\n",
      " [20 25]]\n"
     ]
    }
   ],
   "source": [
    "print(mat_2d[0:2,0:2])"
   ]
  },
  {
   "cell_type": "code",
   "execution_count": null,
   "metadata": {},
   "outputs": [],
   "source": []
  }
 ],
 "metadata": {
  "celltoolbar": "Raw Cell Format",
  "kernelspec": {
   "display_name": "Python 3",
   "language": "python",
   "name": "python3"
  },
  "language_info": {
   "codemirror_mode": {
    "name": "ipython",
    "version": 3
   },
   "file_extension": ".py",
   "mimetype": "text/x-python",
   "name": "python",
   "nbconvert_exporter": "python",
   "pygments_lexer": "ipython3",
   "version": "3.6.4"
  }
 },
 "nbformat": 4,
 "nbformat_minor": 1
}
