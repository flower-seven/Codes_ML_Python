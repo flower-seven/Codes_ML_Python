{
 "cells": [
  {
   "cell_type": "code",
   "execution_count": 17,
   "metadata": {},
   "outputs": [],
   "source": [
    "# recorded by hao (2018/03/08)\n",
    "# rock3.hao@gmail.com\n",
    "# qinlab.BNU\n",
    "\n",
    "# training of numpy 03"
   ]
  },
  {
   "cell_type": "code",
   "execution_count": 18,
   "metadata": {},
   "outputs": [
    {
     "name": "stdout",
     "output_type": "stream",
     "text": [
      "[ 0  1  2  3  4  5  6  7  8  9 10 11 12 13]\n",
      "[[ 0  1  2  3  4  5  6]\n",
      " [ 7  8  9 10 11 12 13]]\n"
     ]
    }
   ],
   "source": [
    "import numpy as np\n",
    "vect = np.arange(14)\n",
    "mat_2d = vect.reshape(2, 7)\n",
    "\n",
    "print(vect)\n",
    "print(mat_2d)"
   ]
  },
  {
   "cell_type": "code",
   "execution_count": 19,
   "metadata": {},
   "outputs": [
    {
     "data": {
      "text/plain": [
       "(2, 7)"
      ]
     },
     "execution_count": 19,
     "metadata": {},
     "output_type": "execute_result"
    }
   ],
   "source": [
    "mat_2d.shape"
   ]
  },
  {
   "cell_type": "code",
   "execution_count": 20,
   "metadata": {},
   "outputs": [
    {
     "data": {
      "text/plain": [
       "2"
      ]
     },
     "execution_count": 20,
     "metadata": {},
     "output_type": "execute_result"
    }
   ],
   "source": [
    "# the number of axes (dimensions) of the array\n",
    "mat_2d.ndim"
   ]
  },
  {
   "cell_type": "code",
   "execution_count": 21,
   "metadata": {},
   "outputs": [
    {
     "data": {
      "text/plain": [
       "'int64'"
      ]
     },
     "execution_count": 21,
     "metadata": {},
     "output_type": "execute_result"
    }
   ],
   "source": [
    "mat_2d.dtype.name"
   ]
  },
  {
   "cell_type": "code",
   "execution_count": 22,
   "metadata": {},
   "outputs": [
    {
     "data": {
      "text/plain": [
       "14"
      ]
     },
     "execution_count": 22,
     "metadata": {},
     "output_type": "execute_result"
    }
   ],
   "source": [
    "# the total number of elements of the array\n",
    "mat_2d.size"
   ]
  },
  {
   "cell_type": "code",
   "execution_count": 23,
   "metadata": {},
   "outputs": [
    {
     "data": {
      "text/plain": [
       "array([[0., 0., 0., 0., 0.],\n",
       "       [0., 0., 0., 0., 0.],\n",
       "       [0., 0., 0., 0., 0.],\n",
       "       [0., 0., 0., 0., 0.]])"
      ]
     },
     "execution_count": 23,
     "metadata": {},
     "output_type": "execute_result"
    }
   ],
   "source": [
    "np.zeros((4,5))"
   ]
  },
  {
   "cell_type": "code",
   "execution_count": 24,
   "metadata": {},
   "outputs": [
    {
     "data": {
      "text/plain": [
       "array([[[1, 1, 1],\n",
       "        [1, 1, 1],\n",
       "        [1, 1, 1],\n",
       "        [1, 1, 1]],\n",
       "\n",
       "       [[1, 1, 1],\n",
       "        [1, 1, 1],\n",
       "        [1, 1, 1],\n",
       "        [1, 1, 1]]])"
      ]
     },
     "execution_count": 24,
     "metadata": {},
     "output_type": "execute_result"
    }
   ],
   "source": [
    "np.ones((2,4,3), dtype=np.int64)"
   ]
  },
  {
   "cell_type": "code",
   "execution_count": 25,
   "metadata": {},
   "outputs": [
    {
     "data": {
      "text/plain": [
       "array([10, 15, 20, 25])"
      ]
     },
     "execution_count": 25,
     "metadata": {},
     "output_type": "execute_result"
    }
   ],
   "source": [
    "# To create sequences of numbers\n",
    "np.arange(10, 30, 5)"
   ]
  },
  {
   "cell_type": "code",
   "execution_count": 26,
   "metadata": {},
   "outputs": [
    {
     "data": {
      "text/plain": [
       "array([0. , 0.3, 0.6, 0.9, 1.2, 1.5, 1.8])"
      ]
     },
     "execution_count": 26,
     "metadata": {},
     "output_type": "execute_result"
    }
   ],
   "source": [
    "np.arange( 0, 2, 0.3 )"
   ]
  },
  {
   "cell_type": "code",
   "execution_count": 27,
   "metadata": {},
   "outputs": [
    {
     "data": {
      "text/plain": [
       "array([[ 0,  1,  2,  3,  4,  5],\n",
       "       [ 6,  7,  8,  9, 10, 11]])"
      ]
     },
     "execution_count": 27,
     "metadata": {},
     "output_type": "execute_result"
    }
   ],
   "source": [
    "np.arange(12).reshape(2,6)"
   ]
  },
  {
   "cell_type": "code",
   "execution_count": 28,
   "metadata": {},
   "outputs": [
    {
     "data": {
      "text/plain": [
       "array([[0.26495442, 0.87978871, 0.71893613, 0.76615792],\n",
       "       [0.71709521, 0.31337101, 0.22379644, 0.17553392],\n",
       "       [0.43892919, 0.93518576, 0.4219123 , 0.41792525]])"
      ]
     },
     "execution_count": 28,
     "metadata": {},
     "output_type": "execute_result"
    }
   ],
   "source": [
    "np.random.random((3,4))"
   ]
  },
  {
   "cell_type": "code",
   "execution_count": 29,
   "metadata": {},
   "outputs": [
    {
     "data": {
      "text/plain": [
       "array([0.        , 0.33069396, 0.66138793, 0.99208189, 1.32277585,\n",
       "       1.65346982, 1.98416378, 2.31485774, 2.64555171, 2.97624567,\n",
       "       3.30693964, 3.6376336 , 3.96832756, 4.29902153, 4.62971549,\n",
       "       4.96040945, 5.29110342, 5.62179738, 5.95249134, 6.28318531])"
      ]
     },
     "execution_count": 29,
     "metadata": {},
     "output_type": "execute_result"
    }
   ],
   "source": [
    "from numpy import pi\n",
    "np.linspace(0, 2*pi, 20) # low=0, high=2*pi, number = 100"
   ]
  },
  {
   "cell_type": "code",
   "execution_count": 30,
   "metadata": {},
   "outputs": [
    {
     "data": {
      "text/plain": [
       "array([ 0.00000000e+00,  3.24699469e-01,  6.14212713e-01,  8.37166478e-01,\n",
       "        9.69400266e-01,  9.96584493e-01,  9.15773327e-01,  7.35723911e-01,\n",
       "        4.75947393e-01,  1.64594590e-01, -1.64594590e-01, -4.75947393e-01,\n",
       "       -7.35723911e-01, -9.15773327e-01, -9.96584493e-01, -9.69400266e-01,\n",
       "       -8.37166478e-01, -6.14212713e-01, -3.24699469e-01, -2.44929360e-16])"
      ]
     },
     "execution_count": 30,
     "metadata": {},
     "output_type": "execute_result"
    }
   ],
   "source": [
    "np.sin(np.linspace(0, 2*pi, 20))"
   ]
  },
  {
   "cell_type": "code",
   "execution_count": 31,
   "metadata": {},
   "outputs": [
    {
     "name": "stdout",
     "output_type": "stream",
     "text": [
      "[20 30 40 50 60]\n",
      "[0 1 2 3 4]\n",
      "[20 29 38 47 56]\n",
      "[19 28 37 46 55]\n",
      "[ 0  1  4  9 16]\n",
      "[ True  True False False False]\n",
      "[ 1  1 40 50 60]\n"
     ]
    }
   ],
   "source": [
    "# the product operator * operates elementwise in NumPy arrays\n",
    "a = np.array([20,30,40,50,60])\n",
    "b = np.arange(5)\n",
    "print(a) \n",
    "print(b)\n",
    "\n",
    "c = a-b\n",
    "print(c)\n",
    "c = c-1\n",
    "print(c)\n",
    "\n",
    "print(b**2)\n",
    "print(a<35)\n",
    "\n",
    "a[a<35]=1\n",
    "print(a)"
   ]
  },
  {
   "cell_type": "code",
   "execution_count": 32,
   "metadata": {},
   "outputs": [
    {
     "name": "stdout",
     "output_type": "stream",
     "text": [
      "[[1 1]\n",
      " [0 1]]\n",
      "--------\n",
      "[[2 0]\n",
      " [3 4]]\n",
      "--------\n",
      "[[2 0]\n",
      " [0 4]]\n",
      "--------\n",
      "[[5 4]\n",
      " [3 4]]\n",
      "--------\n",
      "[[5 4]\n",
      " [3 4]]\n"
     ]
    }
   ],
   "source": [
    "# The matrix product can be performed using the dot function or method\n",
    "A = np.array([[1,1],\n",
    "               [0,1]])\n",
    "B = np.array([[2,0],\n",
    "               [3,4]])\n",
    "print(A)\n",
    "print('--------')\n",
    "\n",
    "print(B)\n",
    "print('--------')\n",
    "\n",
    "print(A*B)\n",
    "print('--------')\n",
    "\n",
    "print(A.dot(B))\n",
    "print('--------')\n",
    "print(np.dot(A, B))\n",
    "# [[ A(1,1)*B(1,1)+A(1,2)*B(2,1)   A(1,1)*B(1,2)+A(1,2)*B(2,2) ]\n",
    "# [ A(2,1)*B(1,1)+A(2,2)*B(2,1)    A(2,1)*B(1,2)+A(2,2)*B(2,2) ]]"
   ]
  },
  {
   "cell_type": "code",
   "execution_count": null,
   "metadata": {},
   "outputs": [],
   "source": []
  }
 ],
 "metadata": {
  "kernelspec": {
   "display_name": "Python 3",
   "language": "python",
   "name": "python3"
  },
  "language_info": {
   "codemirror_mode": {
    "name": "ipython",
    "version": 3
   },
   "file_extension": ".py",
   "mimetype": "text/x-python",
   "name": "python",
   "nbconvert_exporter": "python",
   "pygments_lexer": "ipython3",
   "version": "3.6.4"
  }
 },
 "nbformat": 4,
 "nbformat_minor": 1
}
