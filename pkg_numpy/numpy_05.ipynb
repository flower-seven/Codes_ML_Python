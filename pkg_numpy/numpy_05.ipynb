{
 "cells": [
  {
   "cell_type": "code",
   "execution_count": 1,
   "metadata": {},
   "outputs": [],
   "source": [
    "# recorded by hao (2018/03/09)\n",
    "# rock3.hao@gmail.com\n",
    "# qinlab.BNU\n",
    "\n",
    "# training of numpy 05"
   ]
  },
  {
   "cell_type": "code",
   "execution_count": 2,
   "metadata": {},
   "outputs": [
    {
     "name": "stdout",
     "output_type": "stream",
     "text": [
      "[[ 0.          0.84147098  0.90929743  0.14112001]\n",
      " [-0.7568025  -0.95892427 -0.2794155   0.6569866 ]\n",
      " [ 0.98935825  0.41211849 -0.54402111 -0.99999021]\n",
      " [-0.53657292  0.42016704  0.99060736  0.65028784]\n",
      " [-0.28790332 -0.96139749 -0.75098725  0.14987721]]\n",
      "-------------\n",
      "[2 0 3 1]\n",
      "-------------\n",
      "[2 3 0 2 3]\n",
      "-------------\n",
      "range(0, 5)\n",
      "[0.98935825 0.84147098 0.99060736 0.6569866 ]\n",
      "-------------\n",
      "[0.90929743 0.6569866  0.98935825 0.99060736 0.14987721]\n"
     ]
    }
   ],
   "source": [
    "import numpy as np\n",
    "data = np.sin(np.arange(20)).reshape(5,4)\n",
    "print(data)\n",
    "print('-------------')\n",
    "\n",
    "ind_1 = data.argmax(axis=0) # axis=0 按列寻找最大值, 找到行值\n",
    "print(ind_1)\n",
    "print('-------------')\n",
    "\n",
    "ind_2 = data.argmax(axis=1) # axis=1 按行寻找最大值， 找到列值\n",
    "print(ind_2)\n",
    "print('-------------')\n",
    "\n",
    "print(range(data.shape[0]))\n",
    "\n",
    "data_max_1 = data[ind_1, range(data.shape[1])]\n",
    "print(data_max_1)\n",
    "print('-------------')\n",
    "\n",
    "data_max_2 = data[range(data.shape[0]), ind_2]\n",
    "print(data_max_2)\n"
   ]
  },
  {
   "cell_type": "code",
   "execution_count": 3,
   "metadata": {},
   "outputs": [
    {
     "name": "stdout",
     "output_type": "stream",
     "text": [
      "[ 1 11 21 31]\n",
      "-------------\n",
      "[[ 1 11 21 31  1 11 21 31  1 11 21 31  1 11 21 31]\n",
      " [ 1 11 21 31  1 11 21 31  1 11 21 31  1 11 21 31]\n",
      " [ 1 11 21 31  1 11 21 31  1 11 21 31  1 11 21 31]]\n"
     ]
    }
   ],
   "source": [
    "a = np.arange(1, 41, 10)\n",
    "print(a)\n",
    "print('-------------')\n",
    "\n",
    "b = np.tile(a, (3, 4)) \n",
    "print(b)"
   ]
  },
  {
   "cell_type": "code",
   "execution_count": 4,
   "metadata": {},
   "outputs": [
    {
     "name": "stdout",
     "output_type": "stream",
     "text": [
      "[ 0 10 20 30 40]\n",
      "-------------\n",
      "[[ 0 10 20 30 40  0 10 20 30 40  0 10 20 30 40  0 10 20 30 40]]\n"
     ]
    }
   ],
   "source": [
    "a = np.arange(0, 41, 10)\n",
    "print(a)\n",
    "print('-------------')\n",
    "\n",
    "b = np.tile(a, (1, 4))\n",
    "print(b)\n"
   ]
  },
  {
   "cell_type": "code",
   "execution_count": 5,
   "metadata": {},
   "outputs": [
    {
     "name": "stdout",
     "output_type": "stream",
     "text": [
      "[[4 3 5]\n",
      " [1 2 1]]\n",
      "-------------\n",
      "[[3 4 5]\n",
      " [1 1 2]]\n",
      "-------------\n",
      "[[1 2 1]\n",
      " [4 3 5]]\n",
      "-------------\n",
      "[[3 4 5]\n",
      " [1 1 2]]\n",
      "-------------\n",
      "[4 3 1 2]\n",
      "[2 3 1 0]\n",
      "[1 2 3 4]\n"
     ]
    }
   ],
   "source": [
    "a = np.array([[4, 3, 5], [1, 2, 1]])\n",
    "print(a)\n",
    "print('-------------')\n",
    "\n",
    "b = np.sort(a, axis=1)\n",
    "print(b)\n",
    "print('-------------')\n",
    "\n",
    "b = np.sort(a, axis=0)\n",
    "print(b)\n",
    "print('-------------')\n",
    "\n",
    "a.sort(axis=1)\n",
    "print(a)\n",
    "print('-------------')\n",
    "\n",
    "a = np.array([4, 3, 1, 2])\n",
    "j = np.argsort(a)\n",
    "print(a)\n",
    "print(j)\n",
    "print(a[j])"
   ]
  },
  {
   "cell_type": "code",
   "execution_count": null,
   "metadata": {},
   "outputs": [],
   "source": []
  }
 ],
 "metadata": {
  "kernelspec": {
   "display_name": "Python 3",
   "language": "python",
   "name": "python3"
  },
  "language_info": {
   "codemirror_mode": {
    "name": "ipython",
    "version": 3
   },
   "file_extension": ".py",
   "mimetype": "text/x-python",
   "name": "python",
   "nbconvert_exporter": "python",
   "pygments_lexer": "ipython3",
   "version": "3.6.4"
  }
 },
 "nbformat": 4,
 "nbformat_minor": 1
}
