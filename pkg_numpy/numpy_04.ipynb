{
 "cells": [
  {
   "cell_type": "code",
   "execution_count": 9,
   "metadata": {},
   "outputs": [],
   "source": [
    "# recorded by hao (2018/03/09)\n",
    "# rock3.hao@gmail.com\n",
    "# qinlab.BNU\n",
    "\n",
    "# training of numpy 04"
   ]
  },
  {
   "cell_type": "code",
   "execution_count": 10,
   "metadata": {},
   "outputs": [
    {
     "name": "stdout",
     "output_type": "stream",
     "text": [
      "[0 1 2]\n",
      "[1.         2.71828183 7.3890561 ]\n",
      "[0.         1.         1.41421356]\n"
     ]
    }
   ],
   "source": [
    "import numpy as np\n",
    "B = np.arange(3)\n",
    "print(B)\n",
    "print(np.exp(B)) # e=2.71828\n",
    "print(np.sqrt(B))"
   ]
  },
  {
   "cell_type": "code",
   "execution_count": 11,
   "metadata": {},
   "outputs": [
    {
     "name": "stdout",
     "output_type": "stream",
     "text": [
      "[[8. 6. 9. 8.]\n",
      " [0. 9. 7. 1.]\n",
      " [4. 6. 6. 4.]]\n",
      "(3, 4)\n",
      "-------------\n",
      "[8. 6. 9. 8. 0. 9. 7. 1. 4. 6. 6. 4.]\n",
      "(12,)\n",
      "-------------\n",
      "[[8. 6. 9. 8. 0. 9.]\n",
      " [7. 1. 4. 6. 6. 4.]]\n",
      "(2, 6)\n",
      "-------------\n",
      "[[8. 7.]\n",
      " [6. 1.]\n",
      " [9. 4.]\n",
      " [8. 6.]\n",
      " [0. 6.]\n",
      " [9. 4.]]\n",
      "(2, 6)\n",
      "-------------\n"
     ]
    },
    {
     "data": {
      "text/plain": [
       "array([[8., 6., 9., 8.],\n",
       "       [0., 9., 7., 1.],\n",
       "       [4., 6., 6., 4.]])"
      ]
     },
     "execution_count": 11,
     "metadata": {},
     "output_type": "execute_result"
    }
   ],
   "source": [
    "# Return the floor of the input\n",
    "a = np.floor(10*np.random.random((3,4))) # np.floor 向下取整\n",
    "print(a)\n",
    "print(a.shape)\n",
    "print('-------------')\n",
    "\n",
    "# Flatten the array\n",
    "a = a.ravel()\n",
    "print(a)\n",
    "print(a.shape)\n",
    "print('-------------')\n",
    "\n",
    "a = a.reshape(2,6)\n",
    "print(a)\n",
    "print(a.shape)\n",
    "print('-------------')\n",
    "\n",
    "print(a.T)\n",
    "print(a.shape)\n",
    "print('-------------')\n",
    "\n",
    "# If a dimension is given as -1 in a reshaping operation,\n",
    "#the other dimensions are automatically calculated:\n",
    "a.reshape(3,-1) # -1 = 自动计算该维度"
   ]
  },
  {
   "cell_type": "code",
   "execution_count": 12,
   "metadata": {},
   "outputs": [
    {
     "name": "stdout",
     "output_type": "stream",
     "text": [
      "[[3. 3.]\n",
      " [8. 9.]]\n",
      "---------\n",
      "[[1. 9. 7.]\n",
      " [9. 5. 6.]]\n",
      "---------\n",
      "[[5. 0.]\n",
      " [9. 3.]\n",
      " [7. 8.]]\n",
      "---------\n",
      "[[3. 3. 1. 9. 7.]\n",
      " [8. 9. 9. 5. 6.]]\n",
      "---------\n",
      "[[3. 3.]\n",
      " [8. 9.]\n",
      " [5. 0.]\n",
      " [9. 3.]\n",
      " [7. 8.]]\n"
     ]
    }
   ],
   "source": [
    "a = np.floor(10*np.random.random((2,2)))\n",
    "b = np.floor(10*np.random.random((2,3)))\n",
    "c = np.floor(10*np.random.random((3,2)))\n",
    "print(a)\n",
    "print('---------')\n",
    "\n",
    "print(b)\n",
    "print('---------')\n",
    "\n",
    "print(c)\n",
    "print('---------')\n",
    "\n",
    "print(np.hstack((a,b)))\n",
    "\n",
    "print('---------')\n",
    "print(np.vstack((a,c)))"
   ]
  },
  {
   "cell_type": "code",
   "execution_count": 13,
   "metadata": {},
   "outputs": [
    {
     "name": "stdout",
     "output_type": "stream",
     "text": [
      "[[8. 0. 7. 4. 2. 7. 5. 2. 5.]\n",
      " [4. 4. 8. 5. 0. 6. 6. 6. 8.]\n",
      " [4. 3. 6. 6. 2. 7. 6. 4. 1.]\n",
      " [0. 1. 0. 6. 9. 9. 8. 8. 6.]]\n",
      "---------\n",
      "[array([[8., 0., 7.],\n",
      "       [4., 4., 8.],\n",
      "       [4., 3., 6.],\n",
      "       [0., 1., 0.]]), array([[4., 2., 7.],\n",
      "       [5., 0., 6.],\n",
      "       [6., 2., 7.],\n",
      "       [6., 9., 9.]]), array([[5., 2., 5.],\n",
      "       [6., 6., 8.],\n",
      "       [6., 4., 1.],\n",
      "       [8., 8., 6.]])]\n",
      "---------\n",
      "[[8. 0. 7.]\n",
      " [4. 4. 8.]\n",
      " [4. 3. 6.]\n",
      " [0. 1. 0.]]\n",
      "---------\n",
      "[array([[8., 0., 7.],\n",
      "       [4., 4., 8.],\n",
      "       [4., 3., 6.],\n",
      "       [0., 1., 0.]]), array([[4.],\n",
      "       [5.],\n",
      "       [6.],\n",
      "       [6.]]), array([[2., 7.],\n",
      "       [0., 6.],\n",
      "       [2., 7.],\n",
      "       [9., 9.]]), array([[5., 2., 5.],\n",
      "       [6., 6., 8.],\n",
      "       [6., 4., 1.],\n",
      "       [8., 8., 6.]])]\n",
      "---------\n",
      "[[7. 3.]\n",
      " [1. 1.]\n",
      " [3. 0.]\n",
      " [8. 4.]\n",
      " [1. 2.]\n",
      " [8. 0.]\n",
      " [5. 6.]\n",
      " [3. 8.]\n",
      " [4. 2.]\n",
      " [3. 3.]\n",
      " [2. 8.]\n",
      " [2. 2.]]\n",
      "---------\n",
      "[array([[7., 3.],\n",
      "       [1., 1.],\n",
      "       [3., 0.],\n",
      "       [8., 4.]]), array([[1., 2.],\n",
      "       [8., 0.],\n",
      "       [5., 6.],\n",
      "       [3., 8.]]), array([[4., 2.],\n",
      "       [3., 3.],\n",
      "       [2., 8.],\n",
      "       [2., 2.]])]\n"
     ]
    }
   ],
   "source": [
    "a = np.floor(10*np.random.random((4,9)))\n",
    "print(a)\n",
    "print('---------')\n",
    " \n",
    "print(np.hsplit(a,3)) # hsplit\n",
    "print('---------')\n",
    "\n",
    "print(np.hsplit(a,3)[0])\n",
    "print('---------')\n",
    "\n",
    "print(np.hsplit(a,(3,4,6)))   # Split a after the third and the fourth column\n",
    "print('---------')\n",
    "\n",
    "a = np.floor(10*np.random.random((12,2)))\n",
    "print(a)\n",
    "print('---------')\n",
    "\n",
    "print(np.vsplit(a,3)) # vsplit"
   ]
  },
  {
   "cell_type": "code",
   "execution_count": 14,
   "metadata": {},
   "outputs": [
    {
     "name": "stdout",
     "output_type": "stream",
     "text": [
      "(12,)\n",
      "---------\n",
      "True\n",
      "---------\n",
      "(3, 4)\n",
      "(3, 4)\n",
      "---------\n",
      "4605530480\n",
      "4605530480\n"
     ]
    }
   ],
   "source": [
    "#Simple assignments make no copy of array objects or of their data.\n",
    "a = np.arange(12)\n",
    "print(a.shape)\n",
    "print('---------')\n",
    "\n",
    "b = a\n",
    "# a and b are two names for the same ndarray object\n",
    "print(b is a)\n",
    "print('---------')\n",
    "\n",
    "b.shape = 3,4\n",
    "print(b.shape)\n",
    "print(a.shape)\n",
    "print('---------')\n",
    "\n",
    "print(id(a))\n",
    "print(id(b))"
   ]
  },
  {
   "cell_type": "code",
   "execution_count": 15,
   "metadata": {},
   "outputs": [
    {
     "name": "stdout",
     "output_type": "stream",
     "text": [
      "False\n",
      "[ 0  1  2  3  4  5  6  7  8  9 10 11]\n",
      "(12,)\n",
      "[ 0  1  2  3  4  5  6  7  8  9 10 11]\n",
      "(12,)\n",
      "---------\n",
      "(2, 6)\n",
      "(12,)\n",
      "---------\n",
      "[   0    1    2    3 1234    5    6    7    8    9   10   11]\n",
      "[[   0    1    2    3 1234    5]\n",
      " [   6    7    8    9   10   11]]\n"
     ]
    }
   ],
   "source": [
    "# The view method creates a new array object that looks at the same data.\n",
    "a = np.arange(12)\n",
    "\n",
    "c = a.view()\n",
    "print(c is a)\n",
    "print(a)\n",
    "print(a.shape)\n",
    "print(c)\n",
    "print(c.shape)\n",
    "print('---------')\n",
    "\n",
    "c.shape = 2,6\n",
    "print(c.shape)\n",
    "print(a.shape)\n",
    "print('---------')\n",
    "\n",
    "c[0,4] = 1234\n",
    "print(a)\n",
    "print(c)"
   ]
  },
  {
   "cell_type": "code",
   "execution_count": 16,
   "metadata": {},
   "outputs": [
    {
     "name": "stdout",
     "output_type": "stream",
     "text": [
      "[ 0  1  2  3  4  5  6  7  8  9 10 11]\n",
      "[[ 0  1  2  3  4  5]\n",
      " [ 6  7  8  9 10 11]]\n",
      "---------\n",
      "False\n",
      "---------\n",
      "[[   0    1    2 9999    4    5]\n",
      " [   6    7    8    9   10   11]]\n",
      "[ 0  1  2  3  4  5  6  7  8  9 10 11]\n"
     ]
    }
   ],
   "source": [
    "# The copy method makes a complete copy of the array and its data.\n",
    "a = np.arange(12)\n",
    "print(a)\n",
    "d = a.copy().reshape(2,6)\n",
    "print(d)\n",
    "print('---------')\n",
    "\n",
    "print(d is a)\n",
    "print('---------')\n",
    "\n",
    "d[0,3] = 9999\n",
    "print(d) \n",
    "print(a)"
   ]
  },
  {
   "cell_type": "code",
   "execution_count": null,
   "metadata": {},
   "outputs": [],
   "source": []
  }
 ],
 "metadata": {
  "kernelspec": {
   "display_name": "Python 3",
   "language": "python",
   "name": "python3"
  },
  "language_info": {
   "codemirror_mode": {
    "name": "ipython",
    "version": 3
   },
   "file_extension": ".py",
   "mimetype": "text/x-python",
   "name": "python",
   "nbconvert_exporter": "python",
   "pygments_lexer": "ipython3",
   "version": "3.6.4"
  }
 },
 "nbformat": 4,
 "nbformat_minor": 1
}
