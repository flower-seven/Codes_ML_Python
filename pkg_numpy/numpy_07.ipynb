{
 "cells": [
  {
   "cell_type": "code",
   "execution_count": 1,
   "metadata": {},
   "outputs": [],
   "source": [
    "# recorded by hao (2018/03/09)\n",
    "# rock3.hao@gmail.com\n",
    "# qinlab.BNU\n",
    "\n",
    "# training of numpy 07"
   ]
  },
  {
   "cell_type": "code",
   "execution_count": 2,
   "metadata": {},
   "outputs": [
    {
     "name": "stdout",
     "output_type": "stream",
     "text": [
      "[[ 0  1  2  3  4  5]\n",
      " [ 6  7  8  9 10 11]\n",
      " [12 13 14 15 16 17]\n",
      " [18 19 20 21 22 23]]\n",
      "-------------—----\n",
      "[[ 6  7  8  9 10 11]\n",
      " [ 0  1  2  3  4  5]\n",
      " [12 13 14 15 16 17]\n",
      " [18 19 20 21 22 23]]\n"
     ]
    }
   ],
   "source": [
    "import numpy as np\n",
    "# 交换矩阵的其中两行\n",
    "a = np.arange(24).reshape(4,6)\n",
    "print(a)\n",
    "print('-------------—----')\n",
    "\n",
    "a[[0,1]] = a[[1,0]]\n",
    "print(a)"
   ]
  },
  {
   "cell_type": "code",
   "execution_count": 3,
   "metadata": {},
   "outputs": [
    {
     "name": "stdout",
     "output_type": "stream",
     "text": [
      "[[0 1 2 3]\n",
      " [4 5 6 7]]\n",
      "0\n"
     ]
    }
   ],
   "source": [
    "# 找出数组中与给定值最接近的数\n",
    "z = np.array([[0,1,2,3],[4,5,6,7]])\n",
    "print(z)\n",
    "\n",
    "a = 0.1\n",
    "print(np.abs(z-a).argmin())"
   ]
  },
  {
   "cell_type": "code",
   "execution_count": 4,
   "metadata": {},
   "outputs": [
    {
     "name": "stdout",
     "output_type": "stream",
     "text": [
      "[[0 0 0 1]\n",
      " [0 1 1 0]\n",
      " [2 0 0 1]]\n",
      "[ True  True  True  True]\n"
     ]
    }
   ],
   "source": [
    "# 判断二维矩阵中有没有一整列数为0？\n",
    "# help(np.random.randint)\n",
    "z = np.random.randint(0,3,(3,4))\n",
    "print(z)\n",
    "print(z.any(axis=0))"
   ]
  },
  {
   "cell_type": "code",
   "execution_count": 5,
   "metadata": {},
   "outputs": [
    {
     "name": "stdout",
     "output_type": "stream",
     "text": [
      "[[-1.  -0.6 -0.2  0.2  0.6  1. ]\n",
      " [-1.  -0.6 -0.2  0.2  0.6  1. ]\n",
      " [-1.  -0.6 -0.2  0.2  0.6  1. ]\n",
      " [-1.  -0.6 -0.2  0.2  0.6  1. ]\n",
      " [-1.  -0.6 -0.2  0.2  0.6  1. ]\n",
      " [-1.  -0.6 -0.2  0.2  0.6  1. ]]\n",
      "-------------—----\n",
      "[[-1.  -1.  -1.  -1.  -1.  -1. ]\n",
      " [-0.6 -0.6 -0.6 -0.6 -0.6 -0.6]\n",
      " [-0.2 -0.2 -0.2 -0.2 -0.2 -0.2]\n",
      " [ 0.2  0.2  0.2  0.2  0.2  0.2]\n",
      " [ 0.6  0.6  0.6  0.6  0.6  0.6]\n",
      " [ 1.   1.   1.   1.   1.   1. ]]\n",
      "-------------—----\n",
      "[[1.41421356 1.16619038 1.0198039  1.0198039  1.16619038 1.41421356]\n",
      " [1.16619038 0.84852814 0.63245553 0.63245553 0.84852814 1.16619038]\n",
      " [1.0198039  0.63245553 0.28284271 0.28284271 0.63245553 1.0198039 ]\n",
      " [1.0198039  0.63245553 0.28284271 0.28284271 0.63245553 1.0198039 ]\n",
      " [1.16619038 0.84852814 0.63245553 0.63245553 0.84852814 1.16619038]\n",
      " [1.41421356 1.16619038 1.0198039  1.0198039  1.16619038 1.41421356]]\n",
      "-------------—----\n",
      "[[0.36787944 0.50661699 0.59452055 0.59452055 0.50661699 0.36787944]\n",
      " [0.50661699 0.69767633 0.81873075 0.81873075 0.69767633 0.50661699]\n",
      " [0.59452055 0.81873075 0.96078944 0.96078944 0.81873075 0.59452055]\n",
      " [0.59452055 0.81873075 0.96078944 0.96078944 0.81873075 0.59452055]\n",
      " [0.50661699 0.69767633 0.81873075 0.81873075 0.69767633 0.50661699]\n",
      " [0.36787944 0.50661699 0.59452055 0.59452055 0.50661699 0.36787944]]\n"
     ]
    }
   ],
   "source": [
    "# 生成二维的高斯矩阵\n",
    "x,y = np.meshgrid(np.linspace(-1,1,6),np.linspace(-1,1,6))\n",
    "print(x)\n",
    "print('-------------—----')\n",
    "print(y)\n",
    "print('-------------—----')\n",
    "\n",
    "D = np.sqrt(x**2+y**2)\n",
    "print(D)\n",
    "print('-------------—----')\n",
    "\n",
    "sigma,mu = 1,0\n",
    "a = np.exp(-(D-mu)**2/(2*sigma**2))\n",
    "print(a)"
   ]
  },
  {
   "cell_type": "code",
   "execution_count": null,
   "metadata": {},
   "outputs": [],
   "source": []
  }
 ],
 "metadata": {
  "kernelspec": {
   "display_name": "Python 3",
   "language": "python",
   "name": "python3"
  },
  "language_info": {
   "codemirror_mode": {
    "name": "ipython",
    "version": 3
   },
   "file_extension": ".py",
   "mimetype": "text/x-python",
   "name": "python",
   "nbconvert_exporter": "python",
   "pygments_lexer": "ipython3",
   "version": "3.6.4"
  }
 },
 "nbformat": 4,
 "nbformat_minor": 1
}
