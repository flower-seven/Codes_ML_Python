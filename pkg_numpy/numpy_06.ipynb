{
 "cells": [
  {
   "cell_type": "code",
   "execution_count": 1,
   "metadata": {},
   "outputs": [],
   "source": [
    "# recorded by hao (2018/03/09)\n",
    "# rock3.hao@gmail.com\n",
    "# qinlab.BNU\n",
    "\n",
    "# training of numpy 06"
   ]
  },
  {
   "cell_type": "code",
   "execution_count": 2,
   "metadata": {},
   "outputs": [
    {
     "name": "stdout",
     "output_type": "stream",
     "text": [
      "[[0 0 0 0 0 0 0 0]\n",
      " [0 0 0 0 0 0 0 0]\n",
      " [0 0 0 0 0 0 0 0]\n",
      " [0 0 0 0 0 0 0 0]\n",
      " [0 0 0 0 0 0 0 0]\n",
      " [0 0 0 0 0 0 0 0]\n",
      " [0 0 0 0 0 0 0 0]\n",
      " [0 0 0 0 0 0 0 0]]\n",
      "-------------—----\n",
      "[[0 1 0 1 0 1 0 1]\n",
      " [1 0 1 0 1 0 1 0]\n",
      " [0 1 0 1 0 1 0 1]\n",
      " [1 0 1 0 1 0 1 0]\n",
      " [0 1 0 1 0 1 0 1]\n",
      " [1 0 1 0 1 0 1 0]\n",
      " [0 1 0 1 0 1 0 1]\n",
      " [1 0 1 0 1 0 1 0]]\n"
     ]
    }
   ],
   "source": [
    "import numpy as np\n",
    "#1:8*8棋盘矩阵，其中1、3、5、7行&&0、2、4、6列的元素置为1   1 ,3，5，7列&&0,2,4,6行也是1\n",
    "z = np.zeros((8,8), dtype=int)\n",
    "print(z)\n",
    "print('-------------—----')\n",
    "\n",
    "z[1::2,::2] = 1\n",
    "z[::2,1::2] = 1\n",
    "print(z)\n"
   ]
  },
  {
   "cell_type": "code",
   "execution_count": 3,
   "metadata": {},
   "outputs": [
    {
     "name": "stdout",
     "output_type": "stream",
     "text": [
      "[[0.72354412 0.24653988 0.82440974 0.79280032 0.86720088 0.0388157 ]\n",
      " [0.06627749 0.08022946 0.39440201 0.16000858 0.95330484 0.41817679]\n",
      " [0.16930843 0.04384611 0.21448768 0.8345991  0.54345987 0.51526599]\n",
      " [0.71711766 0.21601391 0.63900253 0.04755376 0.31320703 0.2485686 ]]\n",
      "-------------—----\n",
      "0.03881569676859331\n",
      "-------------—----\n",
      "0.9533048434264751\n"
     ]
    }
   ],
   "source": [
    "#2：min()、max()函数\n",
    "z = np.random.random((4,6))\n",
    "zmin,zmax = z.min(),z.max()\n",
    "\n",
    "print(z)\n",
    "print('-------------—----')\n",
    "print(zmin)\n",
    "print('-------------—----')\n",
    "print(zmax)"
   ]
  },
  {
   "cell_type": "code",
   "execution_count": 4,
   "metadata": {},
   "outputs": [
    {
     "name": "stdout",
     "output_type": "stream",
     "text": [
      "[[2.05981215 7.86008981 6.50773571 0.5536507  8.65565956 5.60803207]\n",
      " [6.24876859 0.37387324 2.75262794 6.74898426 6.92566133 6.48022522]\n",
      " [3.44583073 9.77603683 8.71264231 2.53774878 0.33337837 9.72749237]\n",
      " [2.1121734  6.86424425 8.05968276 6.75519914 7.96274971 9.7021    ]]\n",
      "-------------—----\n",
      "[[0.18283345 0.79709665 0.65387913 0.02332736 0.88134938 0.55859838]\n",
      " [0.6264539  0.0042885  0.25620429 0.67942793 0.69813845 0.65096571]\n",
      " [0.32961611 1.         0.88738399 0.23344807 0.         0.99485903]\n",
      " [0.18837863 0.69163424 0.81823402 0.6800861  0.80796858 0.99216991]]\n"
     ]
    }
   ],
   "source": [
    "#归一化，将矩阵规格化到0～1，即最小的变成0，最大的变成1，最小与最大之间的等比缩放\n",
    "z = 10*np.random.random((4,6))\n",
    "print(z)\n",
    "print('-------------—----')\n",
    "\n",
    "zmin,zmax = z.min(),z.max()\n",
    "z = (z-zmin)/(zmax-zmin)\n",
    "print(z)"
   ]
  },
  {
   "cell_type": "code",
   "execution_count": 5,
   "metadata": {},
   "outputs": [
    {
     "name": "stdout",
     "output_type": "stream",
     "text": [
      "[[0. 0. 0. 0. 0. 0.]\n",
      " [0. 0. 0. 0. 0. 0.]\n",
      " [0. 0. 0. 0. 0. 0.]\n",
      " [0. 0. 0. 0. 0. 0.]]\n",
      "-------------—----\n",
      "[0 1 2 3 4 5]\n",
      "-------------—----\n",
      "[[0. 1. 2. 3. 4. 5.]\n",
      " [0. 1. 2. 3. 4. 5.]\n",
      " [0. 1. 2. 3. 4. 5.]\n",
      " [0. 1. 2. 3. 4. 5.]]\n"
     ]
    }
   ],
   "source": [
    "#矩阵相加\n",
    "z = np.zeros((4,6))\n",
    "print(z)\n",
    "print('-------------—----')\n",
    "\n",
    "print(np.arange(6))\n",
    "print('-------------—----')\n",
    "\n",
    "z += np.arange(6)\n",
    "print(z)"
   ]
  },
  {
   "cell_type": "code",
   "execution_count": 6,
   "metadata": {},
   "outputs": [
    {
     "name": "stdout",
     "output_type": "stream",
     "text": [
      "(array([ 0.        ,  3.33333333,  6.66666667, 10.        ]), 3.3333333333333335)\n"
     ]
    }
   ],
   "source": [
    "# 生成0~10之间均匀分布的11个数，包括0和10\n",
    "# help(np.linspace)\n",
    "\n",
    "z = np.linspace(0,10,4, endpoint=True, retstep=True)\n",
    "print(z)\n"
   ]
  },
  {
   "cell_type": "code",
   "execution_count": null,
   "metadata": {},
   "outputs": [],
   "source": []
  }
 ],
 "metadata": {
  "kernelspec": {
   "display_name": "Python 3",
   "language": "python",
   "name": "python3"
  },
  "language_info": {
   "codemirror_mode": {
    "name": "ipython",
    "version": 3
   },
   "file_extension": ".py",
   "mimetype": "text/x-python",
   "name": "python",
   "nbconvert_exporter": "python",
   "pygments_lexer": "ipython3",
   "version": "3.6.4"
  }
 },
 "nbformat": 4,
 "nbformat_minor": 1
}
