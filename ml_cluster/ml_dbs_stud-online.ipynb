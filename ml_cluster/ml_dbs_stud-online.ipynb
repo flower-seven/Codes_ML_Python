{
 "cells": [
  {
   "cell_type": "code",
   "execution_count": 1,
   "metadata": {},
   "outputs": [],
   "source": [
    "import numpy as np\n",
    "import sklearn.cluster as skc\n",
    "from sklearn import metrics\n",
    "import matplotlib.pyplot as plt\n"
   ]
  },
  {
   "cell_type": "code",
   "execution_count": 2,
   "metadata": {},
   "outputs": [
    {
     "ename": "FileNotFoundError",
     "evalue": "[Errno 2] No such file or directory: 'TestData.txt'",
     "output_type": "error",
     "traceback": [
      "\u001b[0;31m---------------------------------------------------------------------------\u001b[0m",
      "\u001b[0;31mFileNotFoundError\u001b[0m                         Traceback (most recent call last)",
      "\u001b[0;32m<ipython-input-2-c7d02eadb22c>\u001b[0m in \u001b[0;36m<module>\u001b[0;34m()\u001b[0m\n\u001b[1;32m      1\u001b[0m \u001b[0mmac2id\u001b[0m\u001b[0;34m=\u001b[0m\u001b[0mdict\u001b[0m\u001b[0;34m(\u001b[0m\u001b[0;34m)\u001b[0m\u001b[0;34m\u001b[0m\u001b[0m\n\u001b[1;32m      2\u001b[0m \u001b[0monlinetimes\u001b[0m\u001b[0;34m=\u001b[0m\u001b[0;34m[\u001b[0m\u001b[0;34m]\u001b[0m\u001b[0;34m\u001b[0m\u001b[0m\n\u001b[0;32m----> 3\u001b[0;31m \u001b[0mf\u001b[0m\u001b[0;34m=\u001b[0m\u001b[0mopen\u001b[0m\u001b[0;34m(\u001b[0m\u001b[0;34m'TestData.txt'\u001b[0m\u001b[0;34m,\u001b[0m\u001b[0mencoding\u001b[0m\u001b[0;34m=\u001b[0m\u001b[0;34m'utf-8'\u001b[0m\u001b[0;34m)\u001b[0m\u001b[0;34m\u001b[0m\u001b[0m\n\u001b[0m\u001b[1;32m      4\u001b[0m \u001b[0;32mfor\u001b[0m \u001b[0mline\u001b[0m \u001b[0;32min\u001b[0m \u001b[0mf\u001b[0m\u001b[0;34m:\u001b[0m\u001b[0;34m\u001b[0m\u001b[0m\n\u001b[1;32m      5\u001b[0m     \u001b[0mmac\u001b[0m\u001b[0;34m=\u001b[0m\u001b[0mline\u001b[0m\u001b[0;34m.\u001b[0m\u001b[0msplit\u001b[0m\u001b[0;34m(\u001b[0m\u001b[0;34m','\u001b[0m\u001b[0;34m)\u001b[0m\u001b[0;34m[\u001b[0m\u001b[0;36m2\u001b[0m\u001b[0;34m]\u001b[0m\u001b[0;34m\u001b[0m\u001b[0m\n",
      "\u001b[0;31mFileNotFoundError\u001b[0m: [Errno 2] No such file or directory: 'TestData.txt'"
     ]
    }
   ],
   "source": [
    "mac2id=dict()\n",
    "onlinetimes=[]\n",
    "f=open('TestData.txt',encoding='utf-8')\n",
    "for line in f:\n",
    "    mac=line.split(',')[2]\n",
    "    onlinetime=int(line.split(',')[6])\n",
    "    starttime=int(line.split(',')[4].split(' ')[1].split(':')[0])\n",
    "    if mac not in mac2id:\n",
    "        mac2id[mac]=len(onlinetimes)\n",
    "        onlinetimes.append((starttime,onlinetime))\n",
    "    else:\n",
    "        onlinetimes[mac2id[mac]]=[(starttime,onlinetime)]\n",
    "real_X=np.array(onlinetimes).reshape((-1,2))\n",
    " \n",
    "X=real_X[:,0:1]\n",
    " \n",
    "db=skc.DBSCAN(eps=0.01,min_samples=20).fit(X)\n",
    "labels = db.labels_\n",
    " \n",
    "print('Labels:')\n",
    "print(labels)\n",
    "raito=len(labels[labels[:] == -1]) / len(labels)\n",
    "print('Noise raito:',format(raito, '.2%'))\n",
    " \n",
    "n_clusters_ = len(set(labels)) - (1 if -1 in labels else 0)\n",
    " \n",
    "print('Estimated number of clusters: %d' % n_clusters_)\n",
    "print(\"Silhouette Coefficient: %0.3f\"% metrics.silhouette_score(X, labels))\n",
    " \n",
    "for i in range(n_clusters_):\n",
    "    print('Cluster ',i,':')\n",
    "    print(list(X[labels == i].flatten()))\n",
    "     \n",
    "plt.hist(X,24)"
   ]
  },
  {
   "cell_type": "code",
   "execution_count": null,
   "metadata": {},
   "outputs": [],
   "source": []
  }
 ],
 "metadata": {
  "kernelspec": {
   "display_name": "Python 3",
   "language": "python",
   "name": "python3"
  },
  "language_info": {
   "codemirror_mode": {
    "name": "ipython",
    "version": 3
   },
   "file_extension": ".py",
   "mimetype": "text/x-python",
   "name": "python",
   "nbconvert_exporter": "python",
   "pygments_lexer": "ipython3",
   "version": "3.6.4"
  }
 },
 "nbformat": 4,
 "nbformat_minor": 2
}
