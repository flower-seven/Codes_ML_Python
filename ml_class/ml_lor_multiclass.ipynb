{
 "cells": [
  {
   "cell_type": "code",
   "execution_count": 9,
   "metadata": {},
   "outputs": [
    {
     "name": "stdout",
     "output_type": "stream",
     "text": [
      "    mpg  cylinders  displacement horsepower  weight  acceleration  year  \\\n",
      "0  18.0          8         307.0      130.0  3504.0          12.0    70   \n",
      "1  15.0          8         350.0      165.0  3693.0          11.5    70   \n",
      "2  18.0          8         318.0      150.0  3436.0          11.0    70   \n",
      "3  16.0          8         304.0      150.0  3433.0          12.0    70   \n",
      "4  17.0          8         302.0      140.0  3449.0          10.5    70   \n",
      "\n",
      "   origin                   car name  \n",
      "0       1  chevrolet chevelle malibu  \n",
      "1       1          buick skylark 320  \n",
      "2       1         plymouth satellite  \n",
      "3       1              amc rebel sst  \n",
      "4       1                ford torino  \n",
      "      mpg  cylinders  displacement horsepower  weight  acceleration  year  \\\n",
      "393  27.0          4         140.0      86.00  2790.0          15.6    82   \n",
      "394  44.0          4          97.0      52.00  2130.0          24.6    82   \n",
      "395  32.0          4         135.0      84.00  2295.0          11.6    82   \n",
      "396  28.0          4         120.0      79.00  2625.0          18.6    82   \n",
      "397  31.0          4         119.0      82.00  2720.0          19.4    82   \n",
      "\n",
      "     origin         car name  \n",
      "393       1  ford mustang gl  \n",
      "394       2        vw pickup  \n",
      "395       1    dodge rampage  \n",
      "396       1      ford ranger  \n",
      "397       1       chevy s-10  \n"
     ]
    }
   ],
   "source": [
    "import pandas as pd\n",
    "import matplotlib.pyplot as plt\n",
    "columns = [\"mpg\", \"cylinders\", \"displacement\", \"horsepower\", \"weight\", \"acceleration\", \"year\", \"origin\", \"car name\"]\n",
    "cars = pd.read_table(\"./data/data_auto-mpg.data\", delim_whitespace=True, names=columns)\n",
    "print(cars.head(5))\n",
    "print(cars.tail(5))"
   ]
  },
  {
   "cell_type": "code",
   "execution_count": 10,
   "metadata": {},
   "outputs": [
    {
     "name": "stdout",
     "output_type": "stream",
     "text": [
      "    mpg  cylinders  displacement horsepower  weight  acceleration  year  \\\n",
      "0  18.0          8         307.0      130.0  3504.0          12.0    70   \n",
      "1  15.0          8         350.0      165.0  3693.0          11.5    70   \n",
      "2  18.0          8         318.0      150.0  3436.0          11.0    70   \n",
      "3  16.0          8         304.0      150.0  3433.0          12.0    70   \n",
      "4  17.0          8         302.0      140.0  3449.0          10.5    70   \n",
      "\n",
      "   origin                   car name  cyl_3  cyl_4  cyl_5  cyl_6  cyl_8  \n",
      "0       1  chevrolet chevelle malibu      0      0      0      0      1  \n",
      "1       1          buick skylark 320      0      0      0      0      1  \n",
      "2       1         plymouth satellite      0      0      0      0      1  \n",
      "3       1              amc rebel sst      0      0      0      0      1  \n",
      "4       1                ford torino      0      0      0      0      1  \n",
      "    mpg  displacement horsepower  weight  acceleration  origin  \\\n",
      "0  18.0         307.0      130.0  3504.0          12.0       1   \n",
      "1  15.0         350.0      165.0  3693.0          11.5       1   \n",
      "2  18.0         318.0      150.0  3436.0          11.0       1   \n",
      "3  16.0         304.0      150.0  3433.0          12.0       1   \n",
      "4  17.0         302.0      140.0  3449.0          10.5       1   \n",
      "\n",
      "                    car name  cyl_3  cyl_4  cyl_5   ...     year_73  year_74  \\\n",
      "0  chevrolet chevelle malibu      0      0      0   ...           0        0   \n",
      "1          buick skylark 320      0      0      0   ...           0        0   \n",
      "2         plymouth satellite      0      0      0   ...           0        0   \n",
      "3              amc rebel sst      0      0      0   ...           0        0   \n",
      "4                ford torino      0      0      0   ...           0        0   \n",
      "\n",
      "   year_75  year_76  year_77  year_78  year_79  year_80  year_81  year_82  \n",
      "0        0        0        0        0        0        0        0        0  \n",
      "1        0        0        0        0        0        0        0        0  \n",
      "2        0        0        0        0        0        0        0        0  \n",
      "3        0        0        0        0        0        0        0        0  \n",
      "4        0        0        0        0        0        0        0        0  \n",
      "\n",
      "[5 rows x 25 columns]\n"
     ]
    }
   ],
   "source": [
    "dummy_cylinders = pd.get_dummies(cars[\"cylinders\"], prefix=\"cyl\") # 将 数值型特征 转换为 true/false型dummy特征\n",
    "#print dummy_cylinders\n",
    "cars = pd.concat([cars, dummy_cylinders], axis=1)\n",
    "print(cars.head())\n",
    "dummy_years = pd.get_dummies(cars[\"year\"], prefix=\"year\")\n",
    "#print dummy_years\n",
    "cars = pd.concat([cars, dummy_years], axis=1)\n",
    "cars = cars.drop(\"year\", axis=1)\n",
    "cars = cars.drop(\"cylinders\", axis=1)\n",
    "print(cars.head())"
   ]
  },
  {
   "cell_type": "code",
   "execution_count": 11,
   "metadata": {},
   "outputs": [],
   "source": [
    "import numpy as np\n",
    "shuffled_rows = np.random.permutation(cars.index)\n",
    "shuffled_cars = cars.iloc[shuffled_rows]\n",
    "highest_train_row = int(cars.shape[0] * .70)\n",
    "train = shuffled_cars.iloc[0:highest_train_row]\n",
    "test = shuffled_cars.iloc[highest_train_row:]"
   ]
  },
  {
   "cell_type": "code",
   "execution_count": 12,
   "metadata": {},
   "outputs": [],
   "source": [
    "from sklearn.linear_model import LogisticRegression\n",
    "\n",
    "unique_origins = cars[\"origin\"].unique()\n",
    "unique_origins.sort()\n",
    "\n",
    "models = {}\n",
    "features = [c for c in train.columns if c.startswith(\"cyl\") or c.startswith(\"year\")]\n",
    "\n",
    "for origin in unique_origins:\n",
    "    model = LogisticRegression()\n",
    "    \n",
    "    X_train = train[features]\n",
    "    y_train = train[\"origin\"] == origin\n",
    "\n",
    "    model.fit(X_train, y_train)\n",
    "    models[origin] = model"
   ]
  },
  {
   "cell_type": "code",
   "execution_count": 13,
   "metadata": {},
   "outputs": [
    {
     "name": "stdout",
     "output_type": "stream",
     "text": [
      "Empty DataFrame\n",
      "Columns: [1, 2, 3]\n",
      "Index: []\n",
      "            1         2         3\n",
      "0    0.939137  0.032251  0.058107\n",
      "1    0.544206  0.258212  0.189678\n",
      "2    0.967978  0.029988  0.022927\n",
      "3    0.497805  0.417296  0.102453\n",
      "4    0.497805  0.417296  0.102453\n",
      "5    0.352692  0.280506  0.349260\n",
      "6    0.967978  0.029988  0.022927\n",
      "7    0.965727  0.022087  0.035465\n",
      "8    0.947058  0.053702  0.019619\n",
      "9    0.984075  0.015510  0.019259\n",
      "10   0.951305  0.038694  0.027580\n",
      "11   0.352692  0.280506  0.349260\n",
      "12   0.226923  0.307289  0.469201\n",
      "13   0.833010  0.062675  0.106111\n",
      "14   0.833010  0.062675  0.106111\n",
      "15   0.352692  0.280506  0.349260\n",
      "16   0.226923  0.307289  0.469201\n",
      "17   0.876154  0.063490  0.071784\n",
      "18   0.368719  0.405842  0.218576\n",
      "19   0.947058  0.053702  0.019619\n",
      "20   0.278496  0.411223  0.310540\n",
      "21   0.951305  0.038694  0.027580\n",
      "22   0.980880  0.031395  0.009485\n",
      "23   0.640798  0.134809  0.238217\n",
      "24   0.965907  0.031054  0.024025\n",
      "25   0.640798  0.134809  0.238217\n",
      "26   0.876154  0.063490  0.071784\n",
      "27   0.952328  0.030643  0.036409\n",
      "28   0.883018  0.061380  0.068659\n",
      "29   0.353763  0.414562  0.226864\n",
      "..        ...       ...       ...\n",
      "90   0.927591  0.064162  0.029205\n",
      "91   0.939137  0.032251  0.058107\n",
      "92   0.278496  0.411223  0.310540\n",
      "93   0.226923  0.307289  0.469201\n",
      "94   0.640798  0.134809  0.238217\n",
      "95   0.947058  0.053702  0.019619\n",
      "96   0.833010  0.062675  0.106111\n",
      "97   0.318797  0.321071  0.340910\n",
      "98   0.951305  0.038694  0.027580\n",
      "99   0.256862  0.556314  0.192597\n",
      "100  0.951305  0.038694  0.027580\n",
      "101  0.640798  0.134809  0.238217\n",
      "102  0.980880  0.031395  0.009485\n",
      "103  0.960350  0.020955  0.041587\n",
      "104  0.318797  0.321071  0.340910\n",
      "105  0.226923  0.307289  0.469201\n",
      "106  0.927591  0.064162  0.029205\n",
      "107  0.965727  0.022087  0.035465\n",
      "108  0.965752  0.017339  0.043085\n",
      "109  0.451787  0.122267  0.454368\n",
      "110  0.489468  0.128155  0.413707\n",
      "111  0.640798  0.134809  0.238217\n",
      "112  0.224393  0.308902  0.466176\n",
      "113  0.368719  0.405842  0.218576\n",
      "114  0.640798  0.134809  0.238217\n",
      "115  0.224393  0.308902  0.466176\n",
      "116  0.927591  0.064162  0.029205\n",
      "117  0.951305  0.038694  0.027580\n",
      "118  0.224393  0.308902  0.466176\n",
      "119  0.965727  0.022087  0.035465\n",
      "\n",
      "[120 rows x 3 columns]\n"
     ]
    }
   ],
   "source": [
    "testing_probs = pd.DataFrame(columns=unique_origins)  \n",
    "print(testing_probs)\n",
    "\n",
    "for origin in unique_origins:\n",
    "    # Select testing features.\n",
    "    X_test = test[features]   \n",
    "    # Compute probability of observation being in the origin.\n",
    "    testing_probs[origin] = models[origin].predict_proba(X_test)[:,1]\n",
    "print(testing_probs)"
   ]
  },
  {
   "cell_type": "code",
   "execution_count": null,
   "metadata": {},
   "outputs": [],
   "source": []
  }
 ],
 "metadata": {
  "kernelspec": {
   "display_name": "Python 3",
   "language": "python",
   "name": "python3"
  },
  "language_info": {
   "codemirror_mode": {
    "name": "ipython",
    "version": 3
   },
   "file_extension": ".py",
   "mimetype": "text/x-python",
   "name": "python",
   "nbconvert_exporter": "python",
   "pygments_lexer": "ipython3",
   "version": "3.6.4"
  }
 },
 "nbformat": 4,
 "nbformat_minor": 1
}
