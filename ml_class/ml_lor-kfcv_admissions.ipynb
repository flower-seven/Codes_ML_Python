{
 "cells": [
  {
   "cell_type": "code",
   "execution_count": 6,
   "metadata": {},
   "outputs": [
    {
     "name": "stdout",
     "output_type": "stream",
     "text": [
      "   index       gpa         gre  actual_label  fold\n",
      "0    338  2.995996  555.261041             0     1\n",
      "1    569  3.591271  673.552753             1     1\n",
      "2    146  3.445072  577.154385             0     1\n",
      "3    488  3.470824  647.706576             1     1\n",
      "4    545  3.277949  720.062434             1     1\n",
      "     index       gpa         gre  actual_label  fold\n",
      "639    145  2.804895  544.943178             0     5\n",
      "640    133  3.474318  661.969399             0     5\n",
      "641    161  3.218202  684.068073             0     5\n",
      "642    364  3.348772  605.968197             0     5\n",
      "643    332  3.287633  496.568852             0     5\n"
     ]
    }
   ],
   "source": [
    "import pandas as pd\n",
    "import numpy as np\n",
    "\n",
    "admissions = pd.read_csv(\"./data/data_lor-kfcv_admissions.csv\")\n",
    "admissions[\"actual_label\"] = admissions[\"admit\"]\n",
    "admissions = admissions.drop(\"admit\", axis=1)\n",
    "\n",
    "shuffled_index = np.random.permutation(admissions.index)\n",
    "shuffled_admissions = admissions.loc[shuffled_index]\n",
    "admissions = shuffled_admissions.reset_index()\n",
    "# .ix is deprecated. Please use (.loc for label based indexing) or (.iloc for positional indexing)\n",
    "admissions.loc[  0:128, \"fold\"] = 1\n",
    "admissions.loc[129:257, \"fold\"] = 2\n",
    "admissions.loc[258:386, \"fold\"] = 3\n",
    "admissions.loc[387:514, \"fold\"] = 4\n",
    "admissions.loc[515:644, \"fold\"] = 5\n",
    "# Ensure the column is set to integer type.\n",
    "admissions[\"fold\"] = admissions[\"fold\"].astype('int')\n",
    "\n",
    "print(admissions.head())\n",
    "print(admissions.tail())"
   ]
  },
  {
   "cell_type": "code",
   "execution_count": 7,
   "metadata": {},
   "outputs": [
    {
     "name": "stdout",
     "output_type": "stream",
     "text": [
      "0.6976744186046512\n"
     ]
    },
    {
     "name": "stderr",
     "output_type": "stream",
     "text": [
      "/Applications/Anaconda/anaconda3/lib/python3.6/site-packages/ipykernel_launcher.py:10: SettingWithCopyWarning: \n",
      "A value is trying to be set on a copy of a slice from a DataFrame.\n",
      "Try using .loc[row_indexer,col_indexer] = value instead\n",
      "\n",
      "See the caveats in the documentation: http://pandas.pydata.org/pandas-docs/stable/indexing.html#indexing-view-versus-copy\n",
      "  # Remove the CWD from sys.path while we load stuff.\n"
     ]
    }
   ],
   "source": [
    "from sklearn.linear_model import LogisticRegression\n",
    "# Training\n",
    "model = LogisticRegression()\n",
    "train_iteration_one = admissions[admissions[\"fold\"] != 1]\n",
    "test_iteration_one = admissions[admissions[\"fold\"] == 1]\n",
    "model.fit(train_iteration_one[[\"gpa\"]], train_iteration_one[\"actual_label\"])\n",
    "\n",
    "# Predicting\n",
    "labels = model.predict(test_iteration_one[[\"gpa\"]])\n",
    "test_iteration_one[\"predicted_label\"] = labels\n",
    "#print(test_iteration_one)\n",
    "\n",
    "matches = test_iteration_one[\"predicted_label\"] == test_iteration_one[\"actual_label\"]\n",
    "correct_predictions = test_iteration_one[matches]\n",
    "iteration_one_accuracy = len(correct_predictions) / float(len(test_iteration_one))\n",
    "print(iteration_one_accuracy)"
   ]
  },
  {
   "cell_type": "code",
   "execution_count": 8,
   "metadata": {},
   "outputs": [
    {
     "name": "stdout",
     "output_type": "stream",
     "text": [
      "[0.6976744186046512, 0.6046511627906976, 0.6046511627906976, 0.6328125, 0.6201550387596899]\n",
      "0.6319888565891473\n"
     ]
    },
    {
     "name": "stderr",
     "output_type": "stream",
     "text": [
      "/Applications/Anaconda/anaconda3/lib/python3.6/site-packages/ipykernel_launcher.py:11: SettingWithCopyWarning: \n",
      "A value is trying to be set on a copy of a slice from a DataFrame.\n",
      "Try using .loc[row_indexer,col_indexer] = value instead\n",
      "\n",
      "See the caveats in the documentation: http://pandas.pydata.org/pandas-docs/stable/indexing.html#indexing-view-versus-copy\n",
      "  # This is added back by InteractiveShellApp.init_path()\n"
     ]
    }
   ],
   "source": [
    "import numpy as np\n",
    "fold_ids = [1,2,3,4,5]\n",
    "def train_and_test(df, folds):\n",
    "    fold_accuracies = []\n",
    "    for fold in folds:\n",
    "        model = LogisticRegression()\n",
    "        train = admissions[admissions[\"fold\"] != fold]\n",
    "        test = admissions[admissions[\"fold\"] == fold]\n",
    "        model.fit(train[[\"gpa\"]], train[\"actual_label\"])\n",
    "        labels = model.predict(test[[\"gpa\"]])\n",
    "        test[\"predicted_label\"] = labels\n",
    "\n",
    "        matches = test[\"predicted_label\"] == test[\"actual_label\"]\n",
    "        correct_predictions = test[matches]\n",
    "        fold_accuracies.append(len(correct_predictions) / float(len(test)))\n",
    "    return(fold_accuracies)\n",
    "\n",
    "accuracies = train_and_test(admissions, fold_ids)\n",
    "print(accuracies)\n",
    "average_accuracy = np.mean(accuracies)\n",
    "print(average_accuracy)"
   ]
  },
  {
   "cell_type": "markdown",
   "metadata": {},
   "source": [
    "<img src=\"./figure/fig_kfold_parameter.png\" alt=\"FAO\" width=\"600\" align=\"left\">"
   ]
  },
  {
   "cell_type": "code",
   "execution_count": 9,
   "metadata": {},
   "outputs": [
    {
     "name": "stdout",
     "output_type": "stream",
     "text": [
      "[0.6124031  0.65891473 0.64341085 0.6744186  0.6328125 ]\n",
      "0.6443919573643411\n"
     ]
    }
   ],
   "source": [
    "from sklearn.cross_validation import KFold\n",
    "from sklearn.cross_validation import cross_val_score\n",
    "\n",
    "admissions = pd.read_csv(\"./data/data_lor-kfcv_admissions.csv\")\n",
    "admissions[\"actual_label\"] = admissions[\"admit\"]\n",
    "admissions = admissions.drop(\"admit\", axis=1)\n",
    "\n",
    "kf = KFold(len(admissions), 5, shuffle=True, random_state=8)\n",
    "lr = LogisticRegression()\n",
    "#roc_auc \n",
    "accuracies = cross_val_score(lr,admissions[[\"gpa\"]], admissions[\"actual_label\"], scoring=\"accuracy\", cv=kf)\n",
    "# scoring = \"accuracy\" or \"roc_auc\"\n",
    "average_accuracy = sum(accuracies) / len(accuracies)\n",
    "\n",
    "print(accuracies)\n",
    "print(average_accuracy)"
   ]
  },
  {
   "cell_type": "code",
   "execution_count": null,
   "metadata": {},
   "outputs": [],
   "source": []
  }
 ],
 "metadata": {
  "kernelspec": {
   "display_name": "Python 3",
   "language": "python",
   "name": "python3"
  },
  "language_info": {
   "codemirror_mode": {
    "name": "ipython",
    "version": 3
   },
   "file_extension": ".py",
   "mimetype": "text/x-python",
   "name": "python",
   "nbconvert_exporter": "python",
   "pygments_lexer": "ipython3",
   "version": "3.6.4"
  }
 },
 "nbformat": 4,
 "nbformat_minor": 1
}
