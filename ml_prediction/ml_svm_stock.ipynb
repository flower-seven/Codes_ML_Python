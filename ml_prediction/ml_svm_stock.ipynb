{
 "cells": [
  {
   "cell_type": "code",
   "execution_count": null,
   "metadata": {},
   "outputs": [],
   "source": [
    "import pandas as pd\n",
    "import numpy as np\n",
    "from sklearn import svm\n",
    "from sklearn import cross_validation\n"
   ]
  },
  {
   "cell_type": "code",
   "execution_count": null,
   "metadata": {},
   "outputs": [],
   "source": [
    "data=pd.read_csv('stock/000777.csv',encoding='gbk',parse_dates=[0],index_col=0)\n",
    "data.sort_index(0,ascending=True,inplace=True)\n",
    " \n",
    "dayfeature=150\n",
    "featurenum=5*dayfeature\n",
    "x=np.zeros((data.shape[0]-dayfeature,featurenum+1))\n",
    "y=np.zeros((data.shape[0]-dayfeature))\n",
    " \n",
    "for i in range(0,data.shape[0]-dayfeature):\n",
    "    x[i,0:featurenum]=np.array(data[i:i+dayfeature] \\\n",
    "          [[u'收盘价',u'最高价',u'最低价',u'开盘价',u'成交量']]).reshape((1,featurenum))\n",
    "          # 将数据中的 '收盘价','最高价','最低价','开盘价','成交量' 存入x数组中\n",
    "    x[i,featurenum]=data.ix[i+dayfeature][u'¿ªÅÌ¼Û']\n",
    "    # 最后一列记录当日开盘价\n",
    " \n",
    "for i in range(0,data.shape[0]-dayfeature):\n",
    "    if data.ix[i+dayfeature][u'收盘价']>=data.ix[i+dayfeature][u'开盘价']:\n",
    "        y[i]=1\n",
    "    else:\n",
    "        y[i]=0          \n",
    "    # 如果当天收盘价高于开盘价，y[i]=1 代表涨，y[i]=0代表跌\n",
    "clf=svm.SVC(kernel='rbf')\n",
    "# 调用svm函数，设置kernel，默认是rbf，其他：linear, poly, sigmoid\n",
    "result = []\n",
    "for i in range(5):\n",
    "    x_train, x_test, y_train, y_test = cross_validation.train_test_split(x, y, test_size = 0.2)\n",
    "    # x和y的训练集和测试集，切分8:2\n",
    "    clf.fit(x_train, y_train)\n",
    "    # 对数据进行训练\n",
    "    result.append(np.mean(y_test == clf.predict(x_test)))\n",
    "    # 将预测结果和测试集真实结果比对\n",
    "print(\"svm classifier accuacy:\")\n",
    "print(result)"
   ]
  }
 ],
 "metadata": {
  "kernelspec": {
   "display_name": "Python 3",
   "language": "python",
   "name": "python3"
  },
  "language_info": {
   "codemirror_mode": {
    "name": "ipython",
    "version": 3
   },
   "file_extension": ".py",
   "mimetype": "text/x-python",
   "name": "python",
   "nbconvert_exporter": "python",
   "pygments_lexer": "ipython3",
   "version": "3.6.4"
  }
 },
 "nbformat": 4,
 "nbformat_minor": 2
}
