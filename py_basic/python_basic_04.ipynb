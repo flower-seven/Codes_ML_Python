{
 "cells": [
  {
   "cell_type": "code",
   "execution_count": 1,
   "metadata": {},
   "outputs": [],
   "source": [
    "# recorded by hao (2018/03/13)\n",
    "# rock3.hao@gmail.com\n",
    "# qinlab.BNU\n",
    "\n",
    "# training of python basic operation 04"
   ]
  },
  {
   "cell_type": "code",
   "execution_count": 2,
   "metadata": {},
   "outputs": [
    {
     "name": "stdout",
     "output_type": "stream",
     "text": [
      "['1,Sunny', '2,Sunny', '3,Sunny', '4,Sunny', '5,Sunny', '6,Rain', '7,Sunny', '8,Sunny', '9,Fog', '10,Rain']\n",
      "[['1', 'Sunny'], ['2', 'Sunny'], ['3', 'Sunny'], ['4', 'Sunny'], ['5', 'Sunny'], ['6', 'Rain'], ['7', 'Sunny'], ['8', 'Sunny'], ['9', 'Fog'], ['10', 'Rain']]\n"
     ]
    }
   ],
   "source": [
    "weather_data = []\n",
    "fl_01 = open(\"./data/data_la_weather.csv\", 'r')\n",
    "data = fl_01.read()\n",
    "rows = data.split('\\n')\n",
    "print (rows)\n",
    "\n",
    "for row in rows:\n",
    "    split_row = row.split(\",\")\n",
    "    weather_data.append(split_row)\n",
    "    \n",
    "print (weather_data)"
   ]
  },
  {
   "cell_type": "code",
   "execution_count": 3,
   "metadata": {},
   "outputs": [
    {
     "name": "stdout",
     "output_type": "stream",
     "text": [
      "['Sunny', 'Sunny', 'Sunny', 'Sunny', 'Sunny', 'Rain', 'Sunny', 'Sunny', 'Fog', 'Rain']\n"
     ]
    }
   ],
   "source": [
    "weather = []\n",
    "for row in weather_data:\n",
    "    weather.append(row[1])\n",
    "    \n",
    "print (weather)\n",
    "fl_01.close()"
   ]
  },
  {
   "cell_type": "code",
   "execution_count": 4,
   "metadata": {},
   "outputs": [
    {
     "name": "stdout",
     "output_type": "stream",
     "text": [
      "Cat found\n"
     ]
    }
   ],
   "source": [
    "# find a value\n",
    "animals = [\"cat\", \"dog\", \"rabbit\"]\n",
    "for animal in animals:\n",
    "    if animal == \"cat\":\n",
    "        print(\"Cat found\")"
   ]
  },
  {
   "cell_type": "code",
   "execution_count": 5,
   "metadata": {},
   "outputs": [
    {
     "name": "stdout",
     "output_type": "stream",
     "text": [
      "Cat found\n"
     ]
    }
   ],
   "source": [
    "animals = [\"cat\", \"dog\", \"rabbit\"]\n",
    "if \"cat\" in animals:\n",
    "    print(\"Cat found\")"
   ]
  },
  {
   "cell_type": "code",
   "execution_count": 6,
   "metadata": {},
   "outputs": [
    {
     "name": "stdout",
     "output_type": "stream",
     "text": [
      "True\n"
     ]
    }
   ],
   "source": [
    "animals = [\"cat\", \"dog\", \"rabbit\"]\n",
    "cat_found = \"cat\" in animals\n",
    "print (cat_found)"
   ]
  },
  {
   "cell_type": "code",
   "execution_count": 7,
   "metadata": {},
   "outputs": [
    {
     "name": "stdout",
     "output_type": "stream",
     "text": [
      "80\n"
     ]
    }
   ],
   "source": [
    "# Dictionaries\n",
    "students = [\"Tom\", \"Jim\", \"Sue\", \"Ann\"]\n",
    "scores = [70, 80, 85, 75]\n",
    "\n",
    "name = \"Jim\"\n",
    "for i in range(4):\n",
    "    if students[i] == name:\n",
    "        score = scores[i]\n",
    "print(score)"
   ]
  },
  {
   "cell_type": "code",
   "execution_count": 8,
   "metadata": {},
   "outputs": [
    {
     "name": "stdout",
     "output_type": "stream",
     "text": [
      "<class 'dict'>\n",
      "dict_keys(['Jim', 'Sue', 'Ann'])\n",
      "{'Jim': 80, 'Sue': 85, 'Ann': 75}\n",
      "75\n"
     ]
    }
   ],
   "source": [
    "scores = {} # key value\n",
    "print (type(scores))\n",
    "\n",
    "scores[\"Jim\"] = 80\n",
    "scores[\"Sue\"] = 85\n",
    "scores[\"Ann\"] = 75\n",
    "\n",
    "print (scores.keys())\n",
    "print (scores)\n",
    "print (scores[\"Ann\"])"
   ]
  },
  {
   "cell_type": "code",
   "execution_count": 9,
   "metadata": {},
   "outputs": [
    {
     "name": "stdout",
     "output_type": "stream",
     "text": [
      "{'Tom': 60, 'Jim': 70}\n",
      "{'Tom': 60, 'Jim': 70}\n"
     ]
    }
   ],
   "source": [
    "students = {}\n",
    "students[\"Tom\"] = 60\n",
    "students[\"Jim\"] = 70\n",
    "print (students)\n",
    "\n",
    "students = {\n",
    "    \"Tom\": 60,\n",
    "    \"Jim\": 70\n",
    "}\n",
    "print (students)"
   ]
  },
  {
   "cell_type": "code",
   "execution_count": 10,
   "metadata": {},
   "outputs": [
    {
     "name": "stdout",
     "output_type": "stream",
     "text": [
      "{'Tom': 65, 'Jim': 70}\n",
      "{'Tom': 70, 'Jim': 70}\n"
     ]
    }
   ],
   "source": [
    "students = {\n",
    "    \"Tom\": 60,\n",
    "    \"Jim\": 70\n",
    "}\n",
    "students[\"Tom\"] = 65\n",
    "print (students)\n",
    "\n",
    "students[\"Tom\"] = students[\"Tom\"] + 5\n",
    "print (students)"
   ]
  },
  {
   "cell_type": "code",
   "execution_count": 11,
   "metadata": {},
   "outputs": [
    {
     "name": "stdout",
     "output_type": "stream",
     "text": [
      "True\n"
     ]
    }
   ],
   "source": [
    "students = {\n",
    "    \"Tom\": 60,\n",
    "    \"Jim\": 70\n",
    "}\n",
    "print ('Tom' in students)"
   ]
  },
  {
   "cell_type": "code",
   "execution_count": 12,
   "metadata": {},
   "outputs": [
    {
     "name": "stdout",
     "output_type": "stream",
     "text": [
      "{'apple': 3, 'orange': 2, 'grape': 2, 'tomato': 1, 'potato': 1}\n"
     ]
    }
   ],
   "source": [
    "pantry = [\"apple\", \"orange\", \"grape\", \"apple\", \"orange\", \"apple\", \"tomato\", \"potato\", \"grape\"]\n",
    "pantry_counts = {}\n",
    "\n",
    "for item in pantry:\n",
    "    if item in pantry_counts:\n",
    "        pantry_counts[item] = pantry_counts[item] + 1\n",
    "    else:\n",
    "        pantry_counts[item] = 1\n",
    "print (pantry_counts)"
   ]
  },
  {
   "cell_type": "code",
   "execution_count": 13,
   "metadata": {},
   "outputs": [
    {
     "name": "stdout",
     "output_type": "stream",
     "text": [
      "<function printHello at 0x110caf378>\n",
      "--------\n",
      "0\n",
      "1\n",
      "2\n",
      "3\n",
      "4\n",
      "5\n",
      "6\n",
      "7\n",
      "8\n",
      "None\n",
      "--------\n",
      "3\n"
     ]
    }
   ],
   "source": [
    "def printHello():\n",
    "    print ('hello python')\n",
    "    \n",
    "def printNum():\n",
    "    for i in range(9):\n",
    "        print (i)\n",
    "    return\n",
    "        \n",
    "def add(a,b):\n",
    "    return a+b\n",
    "    \n",
    "print(printHello)\n",
    "print('--------')\n",
    "print(printNum())\n",
    "print('--------')\n",
    "print(add(1,2))"
   ]
  },
  {
   "cell_type": "code",
   "execution_count": null,
   "metadata": {},
   "outputs": [],
   "source": []
  }
 ],
 "metadata": {
  "anaconda-cloud": {},
  "kernelspec": {
   "display_name": "Python 3",
   "language": "python",
   "name": "python3"
  },
  "language_info": {
   "codemirror_mode": {
    "name": "ipython",
    "version": 3
   },
   "file_extension": ".py",
   "mimetype": "text/x-python",
   "name": "python",
   "nbconvert_exporter": "python",
   "pygments_lexer": "ipython3",
   "version": "3.6.4"
  }
 },
 "nbformat": 4,
 "nbformat_minor": 1
}
