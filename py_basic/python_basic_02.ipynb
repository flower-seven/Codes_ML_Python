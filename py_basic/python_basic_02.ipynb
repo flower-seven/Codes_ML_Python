{
 "cells": [
  {
   "cell_type": "code",
   "execution_count": 5,
   "metadata": {},
   "outputs": [],
   "source": [
    "# recorded by hao (2018/03/13)\n",
    "# rock3.hao@gmail.com\n",
    "# qinlab.BNU\n",
    "\n",
    "# training of python basic operation 02"
   ]
  },
  {
   "cell_type": "code",
   "execution_count": 6,
   "metadata": {},
   "outputs": [
    {
     "name": "stdout",
     "output_type": "stream",
     "text": [
      "hello python\n",
      "hao1ei 123\n",
      "ML 456\n",
      "DL 789\n",
      "data 234\n"
     ]
    }
   ],
   "source": [
    "# Files\n",
    "# To open a file in Python, we use the open() function\n",
    "fl_01 = open(\"./data/data_test.txt\", \"r\")\n",
    "\n",
    "fl_01_content = fl_01.read()\n",
    "print(fl_01_content)\n",
    "\n",
    "fl_01.close()"
   ]
  },
  {
   "cell_type": "code",
   "execution_count": 7,
   "metadata": {},
   "outputs": [],
   "source": [
    "fl_02 = open(\"test_write.txt\", \"w\")\n",
    "\n",
    "fl_02.write('machine learning')\n",
    "fl_02.write('\\n')\n",
    "fl_02.write('gdgd study, dydy up')\n",
    "\n",
    "fl_02.close()"
   ]
  },
  {
   "cell_type": "code",
   "execution_count": 8,
   "metadata": {},
   "outputs": [
    {
     "name": "stdout",
     "output_type": "stream",
     "text": [
      "['john', 'plastic', 'joe']\n",
      "['How much wood', 'can a woodchuck chuck', 'if a woodchuck', 'could chuck wood?']\n",
      "['hello python', 'hao1ei 123', 'ML 456']\n"
     ]
    }
   ],
   "source": [
    "# We can split a string into a list.\n",
    "sample = \"john,plastic,joe\"\n",
    "split_list = sample.split(\",\")\n",
    "print(split_list)\n",
    "\n",
    "# Here's another example.\n",
    "string_two = \"How much wood\\ncan a woodchuck chuck\\nif a woodchuck\\ncould chuck wood?\"\n",
    "split_string_two = string_two.split('\\n')\n",
    "print(split_string_two)\n",
    "\n",
    "# Code from previous cells\n",
    "fl_03 = open('./data/data_test.txt', 'r')\n",
    "data = fl_03.read()\n",
    "rows = data.split('\\n')\n",
    "print(rows[0:3])"
   ]
  },
  {
   "cell_type": "code",
   "execution_count": 9,
   "metadata": {},
   "outputs": [
    {
     "name": "stdout",
     "output_type": "stream",
     "text": [
      "Austin\n",
      "Dallas\n",
      "Houston\n",
      "123\n"
     ]
    }
   ],
   "source": [
    "# loop\n",
    "cities = [\"Austin\", \"Dallas\", \"Houston\"]\n",
    "for city in cities:\n",
    "    print(city)\n",
    "print ('123')"
   ]
  },
  {
   "cell_type": "code",
   "execution_count": 10,
   "metadata": {},
   "outputs": [
    {
     "name": "stdout",
     "output_type": "stream",
     "text": [
      "1\n",
      "2\n",
      "3\n",
      "4\n",
      "5\n"
     ]
    }
   ],
   "source": [
    "i = 0\n",
    "while i < 5:\n",
    "    i += 1\n",
    "    print (i)"
   ]
  },
  {
   "cell_type": "code",
   "execution_count": 11,
   "metadata": {},
   "outputs": [
    {
     "name": "stdout",
     "output_type": "stream",
     "text": [
      "0\n",
      "1\n",
      "2\n",
      "3\n",
      "4\n",
      "5\n"
     ]
    }
   ],
   "source": [
    "for i in range(6):\n",
    "    print (i)"
   ]
  },
  {
   "cell_type": "code",
   "execution_count": 12,
   "metadata": {
    "scrolled": true
   },
   "outputs": [
    {
     "name": "stdout",
     "output_type": "stream",
     "text": [
      "['Austin', 'Dallas', 'Houston']\n",
      "['Haerbin', 'Shanghai', 'Beijing']\n",
      "Austin\n",
      "Dallas\n",
      "Houston\n",
      "Haerbin\n",
      "Shanghai\n",
      "Beijing\n"
     ]
    }
   ],
   "source": [
    "cities = [[\"Austin\", \"Dallas\", \"Houston\"],['Haerbin','Shanghai','Beijing']]\n",
    "# print (cities)\n",
    "for city in cities:\n",
    "    print(city)\n",
    "    \n",
    "for i in cities:\n",
    "    for j in i:\n",
    "        print (j)"
   ]
  },
  {
   "cell_type": "code",
   "execution_count": 13,
   "metadata": {},
   "outputs": [
    {
     "name": "stdout",
     "output_type": "stream",
     "text": [
      "<class 'bool'>\n",
      "<class 'bool'>\n"
     ]
    }
   ],
   "source": [
    "# Booleans\n",
    "cat = True\n",
    "dog = False\n",
    "print(type(cat))\n",
    "print(type(dog))"
   ]
  },
  {
   "cell_type": "code",
   "execution_count": 14,
   "metadata": {},
   "outputs": [
    {
     "name": "stdout",
     "output_type": "stream",
     "text": [
      "True\n",
      "False\n",
      "False\n",
      "True\n",
      "-------\n",
      "True\n",
      "True\n",
      "True\n"
     ]
    }
   ],
   "source": [
    "print(8 == 8) # True\n",
    "print(8 != 8) # False\n",
    "print(8 == 10) # False\n",
    "print(8 != 10) # True\n",
    "print('-------')\n",
    "\n",
    "print (\"abc\" == \"abc\")\n",
    "print ([\"January\", \"February\"] == [\"January\", \"February\"])\n",
    "print (5.0 == 5.0)"
   ]
  },
  {
   "cell_type": "code",
   "execution_count": 15,
   "metadata": {},
   "outputs": [
    {
     "name": "stdout",
     "output_type": "stream",
     "text": [
      "False\n",
      "True\n"
     ]
    }
   ],
   "source": [
    "rates = [10, 15, 20]\n",
    "\n",
    "print (rates[0] > rates[1]) # False\n",
    "print (rates[0] >= rates[0]) # True"
   ]
  },
  {
   "cell_type": "code",
   "execution_count": 16,
   "metadata": {},
   "outputs": [
    {
     "name": "stdout",
     "output_type": "stream",
     "text": [
      "less than\n"
     ]
    }
   ],
   "source": [
    "# If Statements\n",
    "sample_rate = 4\n",
    "greater = (sample_rate > 5)\n",
    "if (greater == True):      # This is the conditional statement.\n",
    "    print(sample_rate)\n",
    "else:\n",
    "    print('less than')"
   ]
  },
  {
   "cell_type": "code",
   "execution_count": 17,
   "metadata": {},
   "outputs": [
    {
     "name": "stdout",
     "output_type": "stream",
     "text": [
      "Now you see me\n",
      "Now you don't\n"
     ]
    }
   ],
   "source": [
    "t = True\n",
    "f = True\n",
    "\n",
    "if t:\n",
    "    print(\"Now you see me\")\n",
    "if f:\n",
    "    print(\"Now you don't\")"
   ]
  },
  {
   "cell_type": "code",
   "execution_count": null,
   "metadata": {},
   "outputs": [],
   "source": []
  }
 ],
 "metadata": {
  "anaconda-cloud": {},
  "kernelspec": {
   "display_name": "Python 3",
   "language": "python",
   "name": "python3"
  },
  "language_info": {
   "codemirror_mode": {
    "name": "ipython",
    "version": 3
   },
   "file_extension": ".py",
   "mimetype": "text/x-python",
   "name": "python",
   "nbconvert_exporter": "python",
   "pygments_lexer": "ipython3",
   "version": "3.6.4"
  }
 },
 "nbformat": 4,
 "nbformat_minor": 1
}
