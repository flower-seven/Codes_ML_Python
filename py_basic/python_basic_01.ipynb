{
 "cells": [
  {
   "cell_type": "code",
   "execution_count": 1,
   "metadata": {},
   "outputs": [],
   "source": [
    "# recorded by hao (2018/03/13)\n",
    "# rock3.hao@gmail.com\n",
    "# qinlab.BNU\n",
    "\n",
    "# training of python basic operation 01"
   ]
  },
  {
   "cell_type": "code",
   "execution_count": 2,
   "metadata": {},
   "outputs": [],
   "source": [
    "# Variables \n",
    "# To assign the value 365 to the variable days, we enter the variable name, add an equals sign (=)"
   ]
  },
  {
   "cell_type": "code",
   "execution_count": 3,
   "metadata": {},
   "outputs": [],
   "source": [
    "days_1 = 365\n",
    "days_2 = 366"
   ]
  },
  {
   "cell_type": "code",
   "execution_count": 4,
   "metadata": {},
   "outputs": [
    {
     "name": "stdout",
     "output_type": "stream",
     "text": [
      "365\n",
      "366\n"
     ]
    }
   ],
   "source": [
    "# print \n",
    "print(days_1)\n",
    "print(366)"
   ]
  },
  {
   "cell_type": "code",
   "execution_count": 5,
   "metadata": {},
   "outputs": [
    {
     "name": "stdout",
     "output_type": "stream",
     "text": [
      "China\n",
      "123\n",
      "122.5\n"
     ]
    }
   ],
   "source": [
    "# Data Types\n",
    "# When we assign a value an integer value to a variable, we say that the variable is an instance of the integer class\n",
    "# The two most common numerical types in Python are integer and float\n",
    "# The most common non-numerical type is a string\n",
    "str_test = \"China\"\n",
    "int_test = 123\n",
    "float_test = 122.5\n",
    "\n",
    "print(str_test)\n",
    "print(int_test)\n",
    "print(float_test)"
   ]
  },
  {
   "cell_type": "code",
   "execution_count": 6,
   "metadata": {},
   "outputs": [
    {
     "name": "stdout",
     "output_type": "stream",
     "text": [
      "<class 'str'>\n",
      "<class 'int'>\n",
      "<class 'float'>\n"
     ]
    }
   ],
   "source": [
    "print(type(str_test))\n",
    "print(type(int_test))\n",
    "print(type(float_test))"
   ]
  },
  {
   "cell_type": "code",
   "execution_count": 7,
   "metadata": {},
   "outputs": [
    {
     "name": "stdout",
     "output_type": "stream",
     "text": [
      "<class 'str'>\n",
      "<class 'int'>\n"
     ]
    }
   ],
   "source": [
    "str_eight = str(8)  \n",
    "#str_eight + 10\n",
    "print (type(str_eight))\n",
    "\n",
    "str_eight = \"8\"\n",
    "int_eight = int(str_eight)\n",
    "int_eight + 10\n",
    "print (type(int_eight))"
   ]
  },
  {
   "cell_type": "code",
   "execution_count": 8,
   "metadata": {},
   "outputs": [
    {
     "data": {
      "text/plain": [
       "'\\nAddition: +\\nSubtraction: -\\nMultiplication: *\\nDivision: /\\nExponent: **\\n'"
      ]
     },
     "execution_count": 8,
     "metadata": {},
     "output_type": "execute_result"
    }
   ],
   "source": [
    "# Comments\n",
    "\"\"\"\n",
    "Addition: +\n",
    "Subtraction: -\n",
    "Multiplication: *\n",
    "Division: /\n",
    "Exponent: **\n",
    "\"\"\""
   ]
  },
  {
   "cell_type": "code",
   "execution_count": 9,
   "metadata": {},
   "outputs": [
    {
     "name": "stdout",
     "output_type": "stream",
     "text": [
      "20\n",
      "10000\n",
      "100\n"
     ]
    }
   ],
   "source": [
    "china=10\n",
    "united_states=100\n",
    "china_plus_10 = china + 10\n",
    "us_times_100 = united_states * 100\n",
    "print(china_plus_10)\n",
    "print(us_times_100)\n",
    "print (china**2)"
   ]
  },
  {
   "cell_type": "code",
   "execution_count": 10,
   "metadata": {
    "scrolled": true
   },
   "outputs": [
    {
     "name": "stdout",
     "output_type": "stream",
     "text": [
      "<class 'list'>\n",
      "[]\n",
      "-----------------------\n",
      "<class 'list'>\n",
      "['January', 'February']\n"
     ]
    }
   ],
   "source": [
    "# List\n",
    "months = []\n",
    "print (type(months))\n",
    "print (months)\n",
    "print('-----------------------')\n",
    "\n",
    "months.append(\"January\")\n",
    "months.append(\"February\")\n",
    "print (type(months))\n",
    "print (months)"
   ]
  },
  {
   "cell_type": "code",
   "execution_count": 11,
   "metadata": {},
   "outputs": [
    {
     "name": "stdout",
     "output_type": "stream",
     "text": [
      "[1, 'January', 2, 'February']\n"
     ]
    }
   ],
   "source": [
    "months = []\n",
    "months.append(1)\n",
    "months.append(\"January\")\n",
    "months.append(2)\n",
    "months.append(\"February\")\n",
    "print (months)"
   ]
  },
  {
   "cell_type": "code",
   "execution_count": 12,
   "metadata": {},
   "outputs": [
    {
     "name": "stdout",
     "output_type": "stream",
     "text": [
      "['China', 122.5, 'India', 124.0, 'United States', 134.1]\n"
     ]
    }
   ],
   "source": [
    "temps = [\"China\", 122.5, \"India\", 124.0, \"United States\", 134.1]\n",
    "print(temps)"
   ]
  },
  {
   "cell_type": "code",
   "execution_count": 13,
   "metadata": {},
   "outputs": [
    {
     "name": "stdout",
     "output_type": "stream",
     "text": [
      "['China', 'India', 'United States']\n",
      "[30.5, 25.0, 15.1]\n",
      "China\n",
      "25.0\n"
     ]
    }
   ],
   "source": [
    "countries = []\n",
    "temperatures = []\n",
    "\n",
    "countries.append(\"China\")\n",
    "countries.append(\"India\")\n",
    "countries.append(\"United States\")\n",
    "temperatures.append(30.5)\n",
    "temperatures.append(25.0)\n",
    "temperatures.append(15.1)\n",
    "print (countries)\n",
    "print (temperatures)\n",
    "\n",
    "\n",
    "china = countries[0]\n",
    "china_temperature = temperatures[1]\n",
    "print (china)\n",
    "print (china_temperature)"
   ]
  },
  {
   "cell_type": "code",
   "execution_count": 14,
   "metadata": {},
   "outputs": [
    {
     "name": "stdout",
     "output_type": "stream",
     "text": [
      "12\n"
     ]
    }
   ],
   "source": [
    "int_months = [1, 2, 3, 4, 5, 6, 7, 8, 9, 10, 11, 12]\n",
    "length = len(int_months) # Contains the integer value 12.\n",
    "print (length)"
   ]
  },
  {
   "cell_type": "code",
   "execution_count": 15,
   "metadata": {},
   "outputs": [
    {
     "name": "stdout",
     "output_type": "stream",
     "text": [
      "12\n",
      "11\n"
     ]
    }
   ],
   "source": [
    "int_months = [1, 2, 3, 4, 5, 6, 7, 8, 9, 10, 11, 12]\n",
    "index = len(int_months) - 1\n",
    "last_value = int_months[index] # Contains the value at index 11. begin at 0\n",
    "\n",
    "print (last_value)\n",
    "print (int_months[-2])"
   ]
  },
  {
   "cell_type": "code",
   "execution_count": 16,
   "metadata": {},
   "outputs": [
    {
     "name": "stdout",
     "output_type": "stream",
     "text": [
      "['Mar', 'Apr']\n"
     ]
    }
   ],
   "source": [
    "#Slicing \n",
    "months = [\"Jan\", \"Feb\", \"Mar\", \"Apr\", \"May\", \"Jun\", \"Jul\"]\n",
    "# Values at index 2, 3, but not 4.\n",
    "two_four = months[2:4]\n",
    "print (two_four)"
   ]
  },
  {
   "cell_type": "code",
   "execution_count": 17,
   "metadata": {},
   "outputs": [
    {
     "name": "stdout",
     "output_type": "stream",
     "text": [
      "['Apr', 'May', 'Jun', 'Jul']\n"
     ]
    }
   ],
   "source": [
    "three_six = months[3:]\n",
    "print (three_six)"
   ]
  },
  {
   "cell_type": "code",
   "execution_count": null,
   "metadata": {},
   "outputs": [],
   "source": []
  }
 ],
 "metadata": {
  "anaconda-cloud": {},
  "kernelspec": {
   "display_name": "Python 3",
   "language": "python",
   "name": "python3"
  },
  "language_info": {
   "codemirror_mode": {
    "name": "ipython",
    "version": 3
   },
   "file_extension": ".py",
   "mimetype": "text/x-python",
   "name": "python",
   "nbconvert_exporter": "python",
   "pygments_lexer": "ipython3",
   "version": "3.6.4"
  }
 },
 "nbformat": 4,
 "nbformat_minor": 1
}
